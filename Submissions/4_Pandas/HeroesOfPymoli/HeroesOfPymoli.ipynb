{
 "cells": [
  {
   "cell_type": "markdown",
   "metadata": {},
   "source": [
    "### Heroes Of Pymoli Data Analysis\n",
    "* Of the 1163 active players, the vast majority are male (84%). There also exists, a smaller, but notable proportion of female players (14%).\n",
    "\n",
    "* Our peak age demographic falls between 20-24 (44.8%) with secondary groups falling between 15-19 (18.60%) and 25-29 (13.4%).  \n",
    "-----"
   ]
  },
  {
   "cell_type": "markdown",
   "metadata": {},
   "source": [
    "### Note\n",
    "* Instructions have been included for each segment. You do not have to follow them exactly, but they are included to help you think through the steps."
   ]
  },
  {
   "cell_type": "code",
   "execution_count": 1,
   "metadata": {},
   "outputs": [
    {
     "data": {
      "text/html": [
       "<div>\n",
       "<style scoped>\n",
       "    .dataframe tbody tr th:only-of-type {\n",
       "        vertical-align: middle;\n",
       "    }\n",
       "\n",
       "    .dataframe tbody tr th {\n",
       "        vertical-align: top;\n",
       "    }\n",
       "\n",
       "    .dataframe thead th {\n",
       "        text-align: right;\n",
       "    }\n",
       "</style>\n",
       "<table border=\"1\" class=\"dataframe\">\n",
       "  <thead>\n",
       "    <tr style=\"text-align: right;\">\n",
       "      <th></th>\n",
       "      <th>Purchase ID</th>\n",
       "      <th>SN</th>\n",
       "      <th>Age</th>\n",
       "      <th>Gender</th>\n",
       "      <th>Item ID</th>\n",
       "      <th>Item Name</th>\n",
       "      <th>Price</th>\n",
       "    </tr>\n",
       "  </thead>\n",
       "  <tbody>\n",
       "    <tr>\n",
       "      <td>0</td>\n",
       "      <td>0</td>\n",
       "      <td>Lisim78</td>\n",
       "      <td>20</td>\n",
       "      <td>Male</td>\n",
       "      <td>108</td>\n",
       "      <td>Extraction, Quickblade Of Trembling Hands</td>\n",
       "      <td>3.53</td>\n",
       "    </tr>\n",
       "    <tr>\n",
       "      <td>1</td>\n",
       "      <td>1</td>\n",
       "      <td>Lisovynya38</td>\n",
       "      <td>40</td>\n",
       "      <td>Male</td>\n",
       "      <td>143</td>\n",
       "      <td>Frenzied Scimitar</td>\n",
       "      <td>1.56</td>\n",
       "    </tr>\n",
       "    <tr>\n",
       "      <td>2</td>\n",
       "      <td>2</td>\n",
       "      <td>Ithergue48</td>\n",
       "      <td>24</td>\n",
       "      <td>Male</td>\n",
       "      <td>92</td>\n",
       "      <td>Final Critic</td>\n",
       "      <td>4.88</td>\n",
       "    </tr>\n",
       "    <tr>\n",
       "      <td>3</td>\n",
       "      <td>3</td>\n",
       "      <td>Chamassasya86</td>\n",
       "      <td>24</td>\n",
       "      <td>Male</td>\n",
       "      <td>100</td>\n",
       "      <td>Blindscythe</td>\n",
       "      <td>3.27</td>\n",
       "    </tr>\n",
       "    <tr>\n",
       "      <td>4</td>\n",
       "      <td>4</td>\n",
       "      <td>Iskosia90</td>\n",
       "      <td>23</td>\n",
       "      <td>Male</td>\n",
       "      <td>131</td>\n",
       "      <td>Fury</td>\n",
       "      <td>1.44</td>\n",
       "    </tr>\n",
       "  </tbody>\n",
       "</table>\n",
       "</div>"
      ],
      "text/plain": [
       "   Purchase ID             SN  Age Gender  Item ID  \\\n",
       "0            0        Lisim78   20   Male      108   \n",
       "1            1    Lisovynya38   40   Male      143   \n",
       "2            2     Ithergue48   24   Male       92   \n",
       "3            3  Chamassasya86   24   Male      100   \n",
       "4            4      Iskosia90   23   Male      131   \n",
       "\n",
       "                                   Item Name  Price  \n",
       "0  Extraction, Quickblade Of Trembling Hands   3.53  \n",
       "1                          Frenzied Scimitar   1.56  \n",
       "2                               Final Critic   4.88  \n",
       "3                                Blindscythe   3.27  \n",
       "4                                       Fury   1.44  "
      ]
     },
     "execution_count": 1,
     "metadata": {},
     "output_type": "execute_result"
    }
   ],
   "source": [
    "# Dependencies and Setup\n",
    "import pandas as pd\n",
    "\n",
    "# File to Load (Remember to Change These)\n",
    "file_to_load = \"Resources/purchase_data.csv\"\n",
    "\n",
    "# Read Purchasing File and store into Pandas data frame\n",
    "purchase_data = pd.read_csv(file_to_load)\n",
    "purchase_data.head()"
   ]
  },
  {
   "cell_type": "markdown",
   "metadata": {},
   "source": [
    "## Player Count"
   ]
  },
  {
   "cell_type": "markdown",
   "metadata": {},
   "source": [
    "* Display the total number of players\n"
   ]
  },
  {
   "cell_type": "code",
   "execution_count": 2,
   "metadata": {},
   "outputs": [
    {
     "data": {
      "text/plain": [
       "576"
      ]
     },
     "execution_count": 2,
     "metadata": {},
     "output_type": "execute_result"
    }
   ],
   "source": [
    "tplay = purchase_data.SN.nunique()\n",
    "tplay"
   ]
  },
  {
   "cell_type": "markdown",
   "metadata": {},
   "source": [
    "## Purchasing Analysis (Total)"
   ]
  },
  {
   "cell_type": "markdown",
   "metadata": {},
   "source": [
    "* Run basic calculations to obtain number of unique items, average price, etc.\n",
    "\n",
    "\n",
    "* Create a summary data frame to hold the results\n",
    "\n",
    "\n",
    "* Optional: give the displayed data cleaner formatting\n",
    "\n",
    "\n",
    "* Display the summary data frame\n"
   ]
  },
  {
   "cell_type": "code",
   "execution_count": 3,
   "metadata": {
    "scrolled": true
   },
   "outputs": [
    {
     "data": {
      "text/plain": [
       "179"
      ]
     },
     "execution_count": 3,
     "metadata": {},
     "output_type": "execute_result"
    }
   ],
   "source": [
    "uniitem = purchase_data[\"Item Name\"].nunique()\n",
    "uniitem"
   ]
  },
  {
   "cell_type": "code",
   "execution_count": 4,
   "metadata": {},
   "outputs": [],
   "source": [
    "avgprice = purchase_data.Price.mean()\n"
   ]
  },
  {
   "cell_type": "code",
   "execution_count": 5,
   "metadata": {},
   "outputs": [
    {
     "data": {
      "text/html": [
       "<div>\n",
       "<style scoped>\n",
       "    .dataframe tbody tr th:only-of-type {\n",
       "        vertical-align: middle;\n",
       "    }\n",
       "\n",
       "    .dataframe tbody tr th {\n",
       "        vertical-align: top;\n",
       "    }\n",
       "\n",
       "    .dataframe thead th {\n",
       "        text-align: right;\n",
       "    }\n",
       "</style>\n",
       "<table border=\"1\" class=\"dataframe\">\n",
       "  <thead>\n",
       "    <tr style=\"text-align: right;\">\n",
       "      <th></th>\n",
       "      <th>Total Players</th>\n",
       "      <th>Unique Items</th>\n",
       "      <th>Average Price</th>\n",
       "    </tr>\n",
       "  </thead>\n",
       "  <tbody>\n",
       "    <tr>\n",
       "      <td>0</td>\n",
       "      <td>576</td>\n",
       "      <td>179</td>\n",
       "      <td>$3.05</td>\n",
       "    </tr>\n",
       "  </tbody>\n",
       "</table>\n",
       "</div>"
      ],
      "text/plain": [
       "   Total Players  Unique Items Average Price\n",
       "0            576           179         $3.05"
      ]
     },
     "execution_count": 5,
     "metadata": {},
     "output_type": "execute_result"
    }
   ],
   "source": [
    "purchsum = pd.DataFrame({\"Total Players\":[tplay], \"Unique Items\":[uniitem], \"Average Price\": [avgprice]})\n",
    "purchsum[\"Average Price\"] = purchsum[\"Average Price\"].map(\"${:.2f}\".format)\n",
    "purchsum.head()"
   ]
  },
  {
   "cell_type": "markdown",
   "metadata": {},
   "source": [
    "## Gender Demographics"
   ]
  },
  {
   "cell_type": "markdown",
   "metadata": {},
   "source": [
    "* Percentage and Count of Male Players\n",
    "\n",
    "\n",
    "* Percentage and Count of Female Players\n",
    "\n",
    "\n",
    "* Percentage and Count of Other / Non-Disclosed\n",
    "\n",
    "\n"
   ]
  },
  {
   "cell_type": "code",
   "execution_count": 6,
   "metadata": {},
   "outputs": [
    {
     "data": {
      "text/html": [
       "<div>\n",
       "<style scoped>\n",
       "    .dataframe tbody tr th:only-of-type {\n",
       "        vertical-align: middle;\n",
       "    }\n",
       "\n",
       "    .dataframe tbody tr th {\n",
       "        vertical-align: top;\n",
       "    }\n",
       "\n",
       "    .dataframe thead th {\n",
       "        text-align: right;\n",
       "    }\n",
       "</style>\n",
       "<table border=\"1\" class=\"dataframe\">\n",
       "  <thead>\n",
       "    <tr style=\"text-align: right;\">\n",
       "      <th></th>\n",
       "      <th>Purchase ID</th>\n",
       "      <th>SN</th>\n",
       "      <th>Age</th>\n",
       "      <th>Gender</th>\n",
       "      <th>Item ID</th>\n",
       "      <th>Item Name</th>\n",
       "      <th>Price</th>\n",
       "    </tr>\n",
       "    <tr>\n",
       "      <th>Gender</th>\n",
       "      <th></th>\n",
       "      <th></th>\n",
       "      <th></th>\n",
       "      <th></th>\n",
       "      <th></th>\n",
       "      <th></th>\n",
       "      <th></th>\n",
       "    </tr>\n",
       "  </thead>\n",
       "  <tbody>\n",
       "    <tr>\n",
       "      <td>Female</td>\n",
       "      <td>113</td>\n",
       "      <td>81</td>\n",
       "      <td>22</td>\n",
       "      <td>1</td>\n",
       "      <td>90</td>\n",
       "      <td>90</td>\n",
       "      <td>79</td>\n",
       "    </tr>\n",
       "    <tr>\n",
       "      <td>Male</td>\n",
       "      <td>652</td>\n",
       "      <td>484</td>\n",
       "      <td>39</td>\n",
       "      <td>1</td>\n",
       "      <td>178</td>\n",
       "      <td>178</td>\n",
       "      <td>144</td>\n",
       "    </tr>\n",
       "    <tr>\n",
       "      <td>Other / Non-Disclosed</td>\n",
       "      <td>15</td>\n",
       "      <td>11</td>\n",
       "      <td>8</td>\n",
       "      <td>1</td>\n",
       "      <td>13</td>\n",
       "      <td>13</td>\n",
       "      <td>12</td>\n",
       "    </tr>\n",
       "  </tbody>\n",
       "</table>\n",
       "</div>"
      ],
      "text/plain": [
       "                       Purchase ID   SN  Age  Gender  Item ID  Item Name  \\\n",
       "Gender                                                                     \n",
       "Female                         113   81   22       1       90         90   \n",
       "Male                           652  484   39       1      178        178   \n",
       "Other / Non-Disclosed           15   11    8       1       13         13   \n",
       "\n",
       "                       Price  \n",
       "Gender                        \n",
       "Female                    79  \n",
       "Male                     144  \n",
       "Other / Non-Disclosed     12  "
      ]
     },
     "execution_count": 6,
     "metadata": {},
     "output_type": "execute_result"
    }
   ],
   "source": [
    "#Groupby gender, unique count of SN\n",
    "gen_gb = purchase_data.groupby([\"Gender\"])\n",
    "gen_count = gen_gb.nunique()\n",
    "gen_count.head()"
   ]
  },
  {
   "cell_type": "code",
   "execution_count": 7,
   "metadata": {},
   "outputs": [],
   "source": [
    "#Counts by Gender\n",
    "malecount = gen_count.loc[\"Male\", \"SN\"]\n",
    "femalecount = gen_count.loc[\"Female\", \"SN\"]\n",
    "othercount = gen_count.loc[\"Other / Non-Disclosed\", \"SN\"]\n"
   ]
  },
  {
   "cell_type": "code",
   "execution_count": 8,
   "metadata": {},
   "outputs": [],
   "source": [
    "#Calc percentages\n",
    "maleperc = 100*malecount/tplay\n",
    "femaleperc = 100*femalecount/tplay\n",
    "otherperc = 100*othercount/tplay\n"
   ]
  },
  {
   "cell_type": "code",
   "execution_count": 9,
   "metadata": {},
   "outputs": [
    {
     "data": {
      "text/html": [
       "<div>\n",
       "<style scoped>\n",
       "    .dataframe tbody tr th:only-of-type {\n",
       "        vertical-align: middle;\n",
       "    }\n",
       "\n",
       "    .dataframe tbody tr th {\n",
       "        vertical-align: top;\n",
       "    }\n",
       "\n",
       "    .dataframe thead th {\n",
       "        text-align: right;\n",
       "    }\n",
       "</style>\n",
       "<table border=\"1\" class=\"dataframe\">\n",
       "  <thead>\n",
       "    <tr style=\"text-align: right;\">\n",
       "      <th></th>\n",
       "      <th>Gender</th>\n",
       "      <th>Unique Players</th>\n",
       "      <th>% of Players</th>\n",
       "    </tr>\n",
       "  </thead>\n",
       "  <tbody>\n",
       "    <tr>\n",
       "      <td>0</td>\n",
       "      <td>Male</td>\n",
       "      <td>484</td>\n",
       "      <td>84.0278</td>\n",
       "    </tr>\n",
       "    <tr>\n",
       "      <td>1</td>\n",
       "      <td>Female</td>\n",
       "      <td>81</td>\n",
       "      <td>14.0625</td>\n",
       "    </tr>\n",
       "    <tr>\n",
       "      <td>2</td>\n",
       "      <td>Other / Non-Disclosed</td>\n",
       "      <td>11</td>\n",
       "      <td>1.90972</td>\n",
       "    </tr>\n",
       "    <tr>\n",
       "      <td>3</td>\n",
       "      <td>Total</td>\n",
       "      <td>576</td>\n",
       "      <td>100%</td>\n",
       "    </tr>\n",
       "  </tbody>\n",
       "</table>\n",
       "</div>"
      ],
      "text/plain": [
       "                  Gender  Unique Players % of Players\n",
       "0                   Male             484      84.0278\n",
       "1                 Female              81      14.0625\n",
       "2  Other / Non-Disclosed              11      1.90972\n",
       "3                  Total             576         100%"
      ]
     },
     "execution_count": 9,
     "metadata": {},
     "output_type": "execute_result"
    }
   ],
   "source": [
    "#Summary table\n",
    "gendersum = pd.DataFrame({\"Gender\": [\"Male\", \"Female\", \"Other / Non-Disclosed\", \"Total\"],\n",
    "                          \"Unique Players\": [malecount, femalecount, othercount, tplay],\n",
    "                         \"% of Players\": [maleperc, femaleperc, otherperc, \"100%\"]})\n",
    "\n",
    "gendersum.head()"
   ]
  },
  {
   "cell_type": "markdown",
   "metadata": {},
   "source": [
    "\n",
    "## Purchasing Analysis (Gender)"
   ]
  },
  {
   "cell_type": "markdown",
   "metadata": {},
   "source": [
    "* Run basic calculations to obtain purchase count, avg. purchase price, avg. purchase total per person etc. by gender\n",
    "\n",
    "\n",
    "\n",
    "\n",
    "* Create a summary data frame to hold the results\n",
    "\n",
    "\n",
    "* Optional: give the displayed data cleaner formatting\n",
    "\n",
    "\n",
    "* Display the summary data frame"
   ]
  },
  {
   "cell_type": "code",
   "execution_count": 10,
   "metadata": {},
   "outputs": [],
   "source": [
    "#total volume of purchases by gender\n",
    "gen_purch = gen_gb.count()\n",
    "malepur = gen_purch.loc[\"Male\", \"Purchase ID\"]\n",
    "femalepur = gen_purch.loc[\"Female\", \"Purchase ID\"]\n",
    "otherpur = gen_purch.loc[\"Other / Non-Disclosed\", \"Purchase ID\"]\n"
   ]
  },
  {
   "cell_type": "code",
   "execution_count": 11,
   "metadata": {},
   "outputs": [],
   "source": [
    "#Purchases per player by gender\n",
    "malepurplay = malepur / malecount\n",
    "femalepurplay = femalepur / femalecount\n",
    "otherpurplay = otherpur / othercount\n"
   ]
  },
  {
   "cell_type": "code",
   "execution_count": 12,
   "metadata": {},
   "outputs": [
    {
     "data": {
      "text/html": [
       "<div>\n",
       "<style scoped>\n",
       "    .dataframe tbody tr th:only-of-type {\n",
       "        vertical-align: middle;\n",
       "    }\n",
       "\n",
       "    .dataframe tbody tr th {\n",
       "        vertical-align: top;\n",
       "    }\n",
       "\n",
       "    .dataframe thead th {\n",
       "        text-align: right;\n",
       "    }\n",
       "</style>\n",
       "<table border=\"1\" class=\"dataframe\">\n",
       "  <thead>\n",
       "    <tr style=\"text-align: right;\">\n",
       "      <th></th>\n",
       "      <th>Purchase ID</th>\n",
       "      <th>Age</th>\n",
       "      <th>Item ID</th>\n",
       "      <th>Price</th>\n",
       "    </tr>\n",
       "    <tr>\n",
       "      <th>Gender</th>\n",
       "      <th></th>\n",
       "      <th></th>\n",
       "      <th></th>\n",
       "      <th></th>\n",
       "    </tr>\n",
       "  </thead>\n",
       "  <tbody>\n",
       "    <tr>\n",
       "      <td>Female</td>\n",
       "      <td>379.380531</td>\n",
       "      <td>21.345133</td>\n",
       "      <td>85.477876</td>\n",
       "      <td>3.203009</td>\n",
       "    </tr>\n",
       "    <tr>\n",
       "      <td>Male</td>\n",
       "      <td>392.516871</td>\n",
       "      <td>22.917178</td>\n",
       "      <td>93.095092</td>\n",
       "      <td>3.017853</td>\n",
       "    </tr>\n",
       "    <tr>\n",
       "      <td>Other / Non-Disclosed</td>\n",
       "      <td>334.600000</td>\n",
       "      <td>24.200000</td>\n",
       "      <td>80.800000</td>\n",
       "      <td>3.346000</td>\n",
       "    </tr>\n",
       "  </tbody>\n",
       "</table>\n",
       "</div>"
      ],
      "text/plain": [
       "                       Purchase ID        Age    Item ID     Price\n",
       "Gender                                                            \n",
       "Female                  379.380531  21.345133  85.477876  3.203009\n",
       "Male                    392.516871  22.917178  93.095092  3.017853\n",
       "Other / Non-Disclosed   334.600000  24.200000  80.800000  3.346000"
      ]
     },
     "execution_count": 12,
     "metadata": {},
     "output_type": "execute_result"
    }
   ],
   "source": [
    "#avg purchase price by gender\n",
    "gen_avgp = gen_gb.mean()\n",
    "maleavgp = gen_avgp.loc[\"Male\", \"Price\"]\n",
    "femaleavgp = gen_avgp.loc[\"Female\", \"Price\"]\n",
    "otheravgp = gen_avgp.loc[\"Other / Non-Disclosed\", \"Price\"]\n",
    "gen_avgp"
   ]
  },
  {
   "cell_type": "code",
   "execution_count": 13,
   "metadata": {},
   "outputs": [],
   "source": [
    "#total spent by gender\n",
    "gen_pr = gen_gb.sum()\n",
    "malespent = gen_pr.loc[\"Male\", \"Price\"]\n",
    "femalespent = gen_pr.loc[\"Female\", \"Price\"]\n",
    "otherspent = gen_pr.loc[\"Other / Non-Disclosed\", \"Price\"]"
   ]
  },
  {
   "cell_type": "code",
   "execution_count": 14,
   "metadata": {},
   "outputs": [],
   "source": [
    "#avg spent per player by gender\n",
    "maleavgspent = malespent / malecount\n",
    "femaleavgspent = femalespent / femalecount\n",
    "otheravgspent = otherspent / othercount\n"
   ]
  },
  {
   "cell_type": "code",
   "execution_count": 15,
   "metadata": {},
   "outputs": [
    {
     "data": {
      "text/html": [
       "<div>\n",
       "<style scoped>\n",
       "    .dataframe tbody tr th:only-of-type {\n",
       "        vertical-align: middle;\n",
       "    }\n",
       "\n",
       "    .dataframe tbody tr th {\n",
       "        vertical-align: top;\n",
       "    }\n",
       "\n",
       "    .dataframe thead th {\n",
       "        text-align: right;\n",
       "    }\n",
       "</style>\n",
       "<table border=\"1\" class=\"dataframe\">\n",
       "  <thead>\n",
       "    <tr style=\"text-align: right;\">\n",
       "      <th></th>\n",
       "      <th>Gender</th>\n",
       "      <th>Total Purchases</th>\n",
       "      <th>Purchases per Player</th>\n",
       "      <th>Avg Purchase Price</th>\n",
       "      <th>Total Spent</th>\n",
       "      <th>Avg Spent per Player</th>\n",
       "    </tr>\n",
       "  </thead>\n",
       "  <tbody>\n",
       "    <tr>\n",
       "      <td>0</td>\n",
       "      <td>Male</td>\n",
       "      <td>652</td>\n",
       "      <td>1.35</td>\n",
       "      <td>$3.02</td>\n",
       "      <td>$1967.64</td>\n",
       "      <td>$4.07</td>\n",
       "    </tr>\n",
       "    <tr>\n",
       "      <td>1</td>\n",
       "      <td>Female</td>\n",
       "      <td>113</td>\n",
       "      <td>1.40</td>\n",
       "      <td>$3.20</td>\n",
       "      <td>$361.94</td>\n",
       "      <td>$4.47</td>\n",
       "    </tr>\n",
       "    <tr>\n",
       "      <td>2</td>\n",
       "      <td>Other / Non-Disclosed</td>\n",
       "      <td>15</td>\n",
       "      <td>1.36</td>\n",
       "      <td>$3.35</td>\n",
       "      <td>$50.19</td>\n",
       "      <td>$4.56</td>\n",
       "    </tr>\n",
       "  </tbody>\n",
       "</table>\n",
       "</div>"
      ],
      "text/plain": [
       "                  Gender  Total Purchases Purchases per Player  \\\n",
       "0                   Male              652                 1.35   \n",
       "1                 Female              113                 1.40   \n",
       "2  Other / Non-Disclosed               15                 1.36   \n",
       "\n",
       "  Avg Purchase Price Total Spent Avg Spent per Player  \n",
       "0              $3.02    $1967.64                $4.07  \n",
       "1              $3.20     $361.94                $4.47  \n",
       "2              $3.35      $50.19                $4.56  "
      ]
     },
     "execution_count": 15,
     "metadata": {},
     "output_type": "execute_result"
    }
   ],
   "source": [
    "#New summart table\n",
    "gender_aggs = pd.DataFrame ({\"Gender\": [\"Male\", \"Female\", \"Other / Non-Disclosed\"],\n",
    "                            \"Total Purchases\": [malepur, femalepur, otherpur],\n",
    "                            \"Purchases per Player\": [malepurplay, femalepurplay, otherpurplay],\n",
    "                             \"Avg Purchase Price\": [maleavgp, femaleavgp, otheravgp],\n",
    "                             \"Total Spent\": [malespent, femalespent, otherspent],\n",
    "                             \"Avg Spent per Player\": [maleavgspent, femaleavgspent, otheravgspent]})\n",
    "#cleaner formatting\n",
    "#Format to %\n",
    "gender_aggs[\"Purchases per Player\"] = gender_aggs[\"Purchases per Player\"].map(\"{:.2f}\".format)\n",
    "gender_aggs[\"Avg Purchase Price\"] = gender_aggs[\"Avg Purchase Price\"].map(\"${:.2f}\".format)\n",
    "gender_aggs[\"Total Spent\"] = gender_aggs[\"Total Spent\"].map(\"${:.2f}\".format)\n",
    "gender_aggs[\"Avg Spent per Player\"] = gender_aggs[\"Avg Spent per Player\"].map(\"${:.2f}\".format)\n",
    "gender_aggs.head()"
   ]
  },
  {
   "cell_type": "markdown",
   "metadata": {},
   "source": [
    "## Age Demographics"
   ]
  },
  {
   "cell_type": "markdown",
   "metadata": {},
   "source": [
    "* Establish bins for ages\n",
    "\n",
    "\n",
    "* Categorize the existing players using the age bins. Hint: use pd.cut()\n",
    "\n",
    "\n",
    "* Calculate the numbers and percentages by age group\n",
    "\n",
    "\n",
    "* Create a summary data frame to hold the results\n",
    "\n",
    "\n",
    "* Optional: round the percentage column to two decimal points\n",
    "\n",
    "\n",
    "* Display Age Demographics Table\n"
   ]
  },
  {
   "cell_type": "code",
   "execution_count": 16,
   "metadata": {},
   "outputs": [
    {
     "data": {
      "text/plain": [
       "21-25            325\n",
       "16-20            200\n",
       "26-30             77\n",
       "11-15             54\n",
       "31-35             52\n",
       "36-40             33\n",
       "10 & Under        32\n",
       "Older than 40      7\n",
       "Name: Age_Group, dtype: int64"
      ]
     },
     "execution_count": 16,
     "metadata": {},
     "output_type": "execute_result"
    }
   ],
   "source": [
    "#bin by 10under, every 5, 40up\n",
    "bins = [0, 10, 15, 20, 25, 30, 35, 40, 150]\n",
    "\n",
    "#bin names\n",
    "group_names = [\"10 & Under\", \"11-15\", \"16-20\", \"21-25\", \"26-30\", \"31-35\", \"36-40\", \"Older than 40\"]\n",
    "\n",
    "purchase_data[\"Age_Group\"] = pd.cut(purchase_data[\"Age\"], bins, labels=group_names, include_lowest=True)\n",
    "purchase_data.Age_Group.value_counts()"
   ]
  },
  {
   "cell_type": "code",
   "execution_count": 17,
   "metadata": {},
   "outputs": [],
   "source": [
    "#Total per age group\n",
    "age_gb = purchase_data.groupby([\"Age_Group\"])\n",
    "agegroup = age_gb.nunique()\n",
    "group1 = agegroup.loc[\"10 & Under\", \"SN\"]\n",
    "group2 = agegroup.loc[\"11-15\", \"SN\"]\n",
    "group3 = agegroup.loc[\"16-20\", \"SN\"]\n",
    "group4 = agegroup.loc[\"21-25\", \"SN\"]\n",
    "group5 = agegroup.loc[\"26-30\", \"SN\"]\n",
    "group6 = agegroup.loc[\"31-35\", \"SN\"]\n",
    "group7 = agegroup.loc[\"36-40\", \"SN\"]\n",
    "group8 = agegroup.loc[\"Older than 40\", \"SN\"]\n"
   ]
  },
  {
   "cell_type": "code",
   "execution_count": 18,
   "metadata": {},
   "outputs": [],
   "source": [
    "#Percent by age group\n",
    "group_perc1 = group1 / tplay * 100\n",
    "group_perc2 = group2 / tplay * 100\n",
    "group_perc3 = group3 / tplay * 100\n",
    "group_perc4 = group4 / tplay * 100\n",
    "group_perc5 = group5 / tplay * 100\n",
    "group_perc6 = group6 / tplay * 100\n",
    "group_perc7 = group7 / tplay * 100\n",
    "group_perc8 = group8 / tplay * 100"
   ]
  },
  {
   "cell_type": "code",
   "execution_count": 19,
   "metadata": {},
   "outputs": [
    {
     "data": {
      "text/html": [
       "<div>\n",
       "<style scoped>\n",
       "    .dataframe tbody tr th:only-of-type {\n",
       "        vertical-align: middle;\n",
       "    }\n",
       "\n",
       "    .dataframe tbody tr th {\n",
       "        vertical-align: top;\n",
       "    }\n",
       "\n",
       "    .dataframe thead th {\n",
       "        text-align: right;\n",
       "    }\n",
       "</style>\n",
       "<table border=\"1\" class=\"dataframe\">\n",
       "  <thead>\n",
       "    <tr style=\"text-align: right;\">\n",
       "      <th></th>\n",
       "      <th>Age Group</th>\n",
       "      <th>Number of Players</th>\n",
       "      <th>% of Players</th>\n",
       "    </tr>\n",
       "  </thead>\n",
       "  <tbody>\n",
       "    <tr>\n",
       "      <td>0</td>\n",
       "      <td>10 &amp; Under</td>\n",
       "      <td>24</td>\n",
       "      <td>4.17%</td>\n",
       "    </tr>\n",
       "    <tr>\n",
       "      <td>1</td>\n",
       "      <td>11-15</td>\n",
       "      <td>41</td>\n",
       "      <td>7.12%</td>\n",
       "    </tr>\n",
       "    <tr>\n",
       "      <td>2</td>\n",
       "      <td>16-20</td>\n",
       "      <td>150</td>\n",
       "      <td>26.04%</td>\n",
       "    </tr>\n",
       "    <tr>\n",
       "      <td>3</td>\n",
       "      <td>21-25</td>\n",
       "      <td>232</td>\n",
       "      <td>40.28%</td>\n",
       "    </tr>\n",
       "    <tr>\n",
       "      <td>4</td>\n",
       "      <td>26-30</td>\n",
       "      <td>59</td>\n",
       "      <td>10.24%</td>\n",
       "    </tr>\n",
       "    <tr>\n",
       "      <td>5</td>\n",
       "      <td>31-35</td>\n",
       "      <td>37</td>\n",
       "      <td>6.42%</td>\n",
       "    </tr>\n",
       "    <tr>\n",
       "      <td>6</td>\n",
       "      <td>36-40</td>\n",
       "      <td>26</td>\n",
       "      <td>4.51%</td>\n",
       "    </tr>\n",
       "    <tr>\n",
       "      <td>7</td>\n",
       "      <td>Older than 40</td>\n",
       "      <td>7</td>\n",
       "      <td>1.22%</td>\n",
       "    </tr>\n",
       "  </tbody>\n",
       "</table>\n",
       "</div>"
      ],
      "text/plain": [
       "       Age Group  Number of Players % of Players\n",
       "0     10 & Under                 24        4.17%\n",
       "1          11-15                 41        7.12%\n",
       "2          16-20                150       26.04%\n",
       "3          21-25                232       40.28%\n",
       "4          26-30                 59       10.24%\n",
       "5          31-35                 37        6.42%\n",
       "6          36-40                 26        4.51%\n",
       "7  Older than 40                  7        1.22%"
      ]
     },
     "execution_count": 19,
     "metadata": {},
     "output_type": "execute_result"
    }
   ],
   "source": [
    "#Age Group Summary table\n",
    "age_group_sum = pd.DataFrame ({\"Age Group\": group_names,\n",
    "                               \"Number of Players\": [group1, group2, group3, group4, group5, group6, group7, group8],\n",
    "                              \"% of Players\": [group_perc1, group_perc2, group_perc3, group_perc4, group_perc5,\n",
    "                                               group_perc6, group_perc7, group_perc8]})\n",
    "#Format percent\n",
    "age_group_sum[\"% of Players\"] = age_group_sum[\"% of Players\"].map(\"{:.2f}%\".format)\n",
    "age_group_sum.head(10)"
   ]
  },
  {
   "cell_type": "markdown",
   "metadata": {},
   "source": [
    "## Purchasing Analysis (Age)"
   ]
  },
  {
   "cell_type": "markdown",
   "metadata": {},
   "source": [
    "* Bin the purchase_data data frame by age\n",
    "\n",
    "\n",
    "* Run basic calculations to obtain purchase count, avg. purchase price, avg. purchase total per person etc. in the table below\n",
    "\n",
    "\n",
    "* Create a summary data frame to hold the results\n",
    "\n",
    "\n",
    "* Optional: give the displayed data cleaner formatting\n",
    "\n",
    "\n",
    "* Display the summary data frame"
   ]
  },
  {
   "cell_type": "code",
   "execution_count": 20,
   "metadata": {},
   "outputs": [],
   "source": [
    "#total volume of purchases by agegroup\n",
    "age_purch = age_gb.count()\n",
    "g1_pur = age_purch.loc[\"10 & Under\", \"Purchase ID\"]\n",
    "g2_pur = age_purch.loc[\"11-15\", \"Purchase ID\"]\n",
    "g3_pur = age_purch.loc[\"16-20\", \"Purchase ID\"]\n",
    "g4_pur = age_purch.loc[\"21-25\", \"Purchase ID\"]\n",
    "g5_pur = age_purch.loc[\"26-30\", \"Purchase ID\"]\n",
    "g6_pur = age_purch.loc[\"31-35\", \"Purchase ID\"]\n",
    "g7_pur = age_purch.loc[\"36-40\", \"Purchase ID\"]\n",
    "g8_pur = age_purch.loc[\"Older than 40\", \"Purchase ID\"]\n"
   ]
  },
  {
   "cell_type": "code",
   "execution_count": 21,
   "metadata": {},
   "outputs": [],
   "source": [
    "#Avg purchase per play by age group\n",
    "#Purchases per player by gender\n",
    "g1_purplay = g1_pur / group1\n",
    "g2_purplay = g2_pur / group2\n",
    "g3_purplay = g3_pur / group3\n",
    "g4_purplay = g4_pur / group4\n",
    "g5_purplay = g5_pur / group5\n",
    "g6_purplay = g6_pur / group6\n",
    "g7_purplay = g7_pur / group7\n",
    "g8_purplay = g8_pur / group8\n"
   ]
  },
  {
   "cell_type": "code",
   "execution_count": 22,
   "metadata": {},
   "outputs": [],
   "source": [
    "#avg purchase price by agegroup\n",
    "age_avgp = age_gb.mean()\n",
    "g1_avgp = age_avgp.loc[\"10 & Under\", \"Price\"]\n",
    "g2_avgp = age_avgp.loc[\"11-15\", \"Price\"]\n",
    "g3_avgp = age_avgp.loc[\"11-15\", \"Price\"]\n",
    "g4_avgp = age_avgp.loc[\"11-15\", \"Price\"]\n",
    "g5_avgp = age_avgp.loc[\"11-15\", \"Price\"]\n",
    "g6_avgp = age_avgp.loc[\"11-15\", \"Price\"]\n",
    "g7_avgp = age_avgp.loc[\"11-15\", \"Price\"]\n",
    "g8_avgp = age_avgp.loc[\"11-15\", \"Price\"]"
   ]
  },
  {
   "cell_type": "code",
   "execution_count": 23,
   "metadata": {},
   "outputs": [],
   "source": [
    "#total spent by age group\n",
    "age_spent = age_gb.sum()\n",
    "g1_spent = age_spent.loc[\"10 & Under\", \"Price\"]\n",
    "g2_spent = age_spent.loc[\"11-15\", \"Price\"]\n",
    "g3_spent = age_spent.loc[\"16-20\", \"Price\"]\n",
    "g4_spent = age_spent.loc[\"21-25\", \"Price\"]\n",
    "g5_spent = age_spent.loc[\"26-30\", \"Price\"]\n",
    "g6_spent = age_spent.loc[\"31-35\", \"Price\"]\n",
    "g7_spent = age_spent.loc[\"36-40\", \"Price\"]\n",
    "g8_spent = age_spent.loc[\"Older than 40\", \"Price\"]"
   ]
  },
  {
   "cell_type": "code",
   "execution_count": 24,
   "metadata": {},
   "outputs": [],
   "source": [
    "#avg spent per player by age group\n",
    "g1_spentplay = g1_spent / group1\n",
    "g2_spentplay = g2_spent / group2\n",
    "g3_spentplay = g3_spent / group3\n",
    "g4_spentplay = g4_spent / group4\n",
    "g5_spentplay = g5_spent / group5\n",
    "g6_spentplay = g6_spent / group6\n",
    "g7_spentplay = g7_spent / group7\n",
    "g8_spentplay = g8_spent / group8"
   ]
  },
  {
   "cell_type": "code",
   "execution_count": 25,
   "metadata": {},
   "outputs": [
    {
     "data": {
      "text/html": [
       "<div>\n",
       "<style scoped>\n",
       "    .dataframe tbody tr th:only-of-type {\n",
       "        vertical-align: middle;\n",
       "    }\n",
       "\n",
       "    .dataframe tbody tr th {\n",
       "        vertical-align: top;\n",
       "    }\n",
       "\n",
       "    .dataframe thead th {\n",
       "        text-align: right;\n",
       "    }\n",
       "</style>\n",
       "<table border=\"1\" class=\"dataframe\">\n",
       "  <thead>\n",
       "    <tr style=\"text-align: right;\">\n",
       "      <th></th>\n",
       "      <th>Age Group</th>\n",
       "      <th>Total Purchases</th>\n",
       "      <th>Purchases per Player</th>\n",
       "      <th>Avg Purchase Price</th>\n",
       "      <th>Total Spent</th>\n",
       "      <th>Avg Spent per Player</th>\n",
       "    </tr>\n",
       "  </thead>\n",
       "  <tbody>\n",
       "    <tr>\n",
       "      <td>0</td>\n",
       "      <td>10 &amp; Under</td>\n",
       "      <td>32</td>\n",
       "      <td>1.33</td>\n",
       "      <td>$3.40</td>\n",
       "      <td>$108.96</td>\n",
       "      <td>$4.54</td>\n",
       "    </tr>\n",
       "    <tr>\n",
       "      <td>1</td>\n",
       "      <td>11-15</td>\n",
       "      <td>54</td>\n",
       "      <td>1.32</td>\n",
       "      <td>$2.90</td>\n",
       "      <td>$156.60</td>\n",
       "      <td>$3.82</td>\n",
       "    </tr>\n",
       "    <tr>\n",
       "      <td>2</td>\n",
       "      <td>16-20</td>\n",
       "      <td>200</td>\n",
       "      <td>1.33</td>\n",
       "      <td>$2.90</td>\n",
       "      <td>$621.56</td>\n",
       "      <td>$4.14</td>\n",
       "    </tr>\n",
       "    <tr>\n",
       "      <td>3</td>\n",
       "      <td>21-25</td>\n",
       "      <td>325</td>\n",
       "      <td>1.40</td>\n",
       "      <td>$2.90</td>\n",
       "      <td>$981.64</td>\n",
       "      <td>$4.23</td>\n",
       "    </tr>\n",
       "    <tr>\n",
       "      <td>4</td>\n",
       "      <td>26-30</td>\n",
       "      <td>77</td>\n",
       "      <td>1.31</td>\n",
       "      <td>$2.90</td>\n",
       "      <td>$221.42</td>\n",
       "      <td>$3.75</td>\n",
       "    </tr>\n",
       "  </tbody>\n",
       "</table>\n",
       "</div>"
      ],
      "text/plain": [
       "    Age Group  Total Purchases Purchases per Player Avg Purchase Price  \\\n",
       "0  10 & Under               32                 1.33              $3.40   \n",
       "1       11-15               54                 1.32              $2.90   \n",
       "2       16-20              200                 1.33              $2.90   \n",
       "3       21-25              325                 1.40              $2.90   \n",
       "4       26-30               77                 1.31              $2.90   \n",
       "\n",
       "  Total Spent Avg Spent per Player  \n",
       "0     $108.96                $4.54  \n",
       "1     $156.60                $3.82  \n",
       "2     $621.56                $4.14  \n",
       "3     $981.64                $4.23  \n",
       "4     $221.42                $3.75  "
      ]
     },
     "execution_count": 25,
     "metadata": {},
     "output_type": "execute_result"
    }
   ],
   "source": [
    "#sum table for age group spendings\n",
    "age_aggs = pd.DataFrame ({\"Age Group\": group_names,\n",
    "                               \"Total Purchases\": [g1_pur, g2_pur, g3_pur, g4_pur, g5_pur, g6_pur, g7_pur, g8_pur],\n",
    "                               \"Purchases per Player\": [g1_purplay, g2_purplay, g3_purplay, g4_purplay,\n",
    "                                                        g5_purplay, g6_purplay, g7_purplay, g8_purplay],\n",
    "                               \"Avg Purchase Price\": [g1_avgp, g2_avgp, g3_avgp, g4_avgp, g5_avgp, g6_avgp, g7_avgp, g8_avgp],\n",
    "                               \"Total Spent\": [g1_spent, g2_spent, g3_spent, g4_spent, g5_spent, g6_spent, g7_spent, g8_spent],\n",
    "                               \"Avg Spent per Player\": [g1_spentplay, g2_spentplay, g3_spentplay, g4_spentplay, g5_spentplay, g6_spentplay, g7_spentplay, g8_spentplay]})\n",
    "#reformat\n",
    "age_aggs[\"Purchases per Player\"] = age_aggs[\"Purchases per Player\"].map(\"{:.2f}\".format)\n",
    "age_aggs[\"Avg Purchase Price\"] = age_aggs[\"Avg Purchase Price\"].map(\"${:.2f}\".format)\n",
    "age_aggs[\"Total Spent\"] = age_aggs[\"Total Spent\"].map(\"${:.2f}\".format)\n",
    "age_aggs[\"Avg Spent per Player\"] = age_aggs[\"Avg Spent per Player\"].map(\"${:.2f}\".format)\n",
    "age_aggs.head()"
   ]
  },
  {
   "cell_type": "markdown",
   "metadata": {},
   "source": [
    "## Top Spenders"
   ]
  },
  {
   "cell_type": "markdown",
   "metadata": {},
   "source": [
    "* Run basic calculations to obtain the results in the table below\n",
    "\n",
    "\n",
    "* Create a summary data frame to hold the results\n",
    "\n",
    "\n",
    "* Sort the total purchase value column in descending order\n",
    "\n",
    "\n",
    "* Optional: give the displayed data cleaner formatting\n",
    "\n",
    "\n",
    "* Display a preview of the summary data frame\n",
    "\n"
   ]
  },
  {
   "cell_type": "code",
   "execution_count": 34,
   "metadata": {},
   "outputs": [
    {
     "data": {
      "text/html": [
       "<div>\n",
       "<style scoped>\n",
       "    .dataframe tbody tr th:only-of-type {\n",
       "        vertical-align: middle;\n",
       "    }\n",
       "\n",
       "    .dataframe tbody tr th {\n",
       "        vertical-align: top;\n",
       "    }\n",
       "\n",
       "    .dataframe thead th {\n",
       "        text-align: right;\n",
       "    }\n",
       "</style>\n",
       "<table border=\"1\" class=\"dataframe\">\n",
       "  <thead>\n",
       "    <tr style=\"text-align: right;\">\n",
       "      <th></th>\n",
       "      <th>SN</th>\n",
       "      <th>Purchase ID</th>\n",
       "    </tr>\n",
       "  </thead>\n",
       "  <tbody>\n",
       "    <tr>\n",
       "      <td>0</td>\n",
       "      <td>Adairialis76</td>\n",
       "      <td>1</td>\n",
       "    </tr>\n",
       "    <tr>\n",
       "      <td>1</td>\n",
       "      <td>Adastirin33</td>\n",
       "      <td>1</td>\n",
       "    </tr>\n",
       "    <tr>\n",
       "      <td>2</td>\n",
       "      <td>Aeda94</td>\n",
       "      <td>1</td>\n",
       "    </tr>\n",
       "    <tr>\n",
       "      <td>3</td>\n",
       "      <td>Aela59</td>\n",
       "      <td>1</td>\n",
       "    </tr>\n",
       "    <tr>\n",
       "      <td>4</td>\n",
       "      <td>Aelaria33</td>\n",
       "      <td>1</td>\n",
       "    </tr>\n",
       "  </tbody>\n",
       "</table>\n",
       "</div>"
      ],
      "text/plain": [
       "             SN  Purchase ID\n",
       "0  Adairialis76            1\n",
       "1   Adastirin33            1\n",
       "2        Aeda94            1\n",
       "3        Aela59            1\n",
       "4     Aelaria33            1"
      ]
     },
     "execution_count": 34,
     "metadata": {},
     "output_type": "execute_result"
    }
   ],
   "source": [
    "#groupby sn. Create DFs for count and sum\n",
    "sn_gb = purchase_data.groupby([\"SN\"])\n",
    "#Total purchases per player\n",
    "tpurch = sn_gb[\"Purchase ID\"].count().reset_index(drop = False)\n",
    "#Total spent per player\n",
    "tprice = sn_gb.Price.sum().reset_index(drop = False)\n",
    "tpurch.head()"
   ]
  },
  {
   "cell_type": "code",
   "execution_count": 71,
   "metadata": {},
   "outputs": [
    {
     "data": {
      "text/html": [
       "<div>\n",
       "<style scoped>\n",
       "    .dataframe tbody tr th:only-of-type {\n",
       "        vertical-align: middle;\n",
       "    }\n",
       "\n",
       "    .dataframe tbody tr th {\n",
       "        vertical-align: top;\n",
       "    }\n",
       "\n",
       "    .dataframe thead th {\n",
       "        text-align: right;\n",
       "    }\n",
       "</style>\n",
       "<table border=\"1\" class=\"dataframe\">\n",
       "  <thead>\n",
       "    <tr style=\"text-align: right;\">\n",
       "      <th></th>\n",
       "      <th>SN</th>\n",
       "      <th>Total Purchases</th>\n",
       "      <th>Total Spent</th>\n",
       "    </tr>\n",
       "  </thead>\n",
       "  <tbody>\n",
       "    <tr>\n",
       "      <td>0</td>\n",
       "      <td>Adairialis76</td>\n",
       "      <td>1</td>\n",
       "      <td>2.28</td>\n",
       "    </tr>\n",
       "    <tr>\n",
       "      <td>1</td>\n",
       "      <td>Adastirin33</td>\n",
       "      <td>1</td>\n",
       "      <td>4.48</td>\n",
       "    </tr>\n",
       "    <tr>\n",
       "      <td>2</td>\n",
       "      <td>Aeda94</td>\n",
       "      <td>1</td>\n",
       "      <td>4.91</td>\n",
       "    </tr>\n",
       "    <tr>\n",
       "      <td>3</td>\n",
       "      <td>Aela59</td>\n",
       "      <td>1</td>\n",
       "      <td>4.32</td>\n",
       "    </tr>\n",
       "    <tr>\n",
       "      <td>4</td>\n",
       "      <td>Aelaria33</td>\n",
       "      <td>1</td>\n",
       "      <td>1.79</td>\n",
       "    </tr>\n",
       "  </tbody>\n",
       "</table>\n",
       "</div>"
      ],
      "text/plain": [
       "             SN  Total Purchases  Total Spent\n",
       "0  Adairialis76                1         2.28\n",
       "1   Adastirin33                1         4.48\n",
       "2        Aeda94                1         4.91\n",
       "3        Aela59                1         4.32\n",
       "4     Aelaria33                1         1.79"
      ]
     },
     "execution_count": 71,
     "metadata": {},
     "output_type": "execute_result"
    }
   ],
   "source": [
    "#Merge DFs\n",
    "merge_df = pd.merge(tpurch, tprice, on = \"SN\", how = \"inner\")\n",
    "#rename purchase id to total pruchases, price to total spent\n",
    "top_df = merge_df.rename(columns={\"Purchase ID\": \"Total Purchases\", \"Price\": \"Total Spent\"})\n",
    "top_df.head()"
   ]
  },
  {
   "cell_type": "code",
   "execution_count": 75,
   "metadata": {},
   "outputs": [
    {
     "data": {
      "text/html": [
       "<div>\n",
       "<style scoped>\n",
       "    .dataframe tbody tr th:only-of-type {\n",
       "        vertical-align: middle;\n",
       "    }\n",
       "\n",
       "    .dataframe tbody tr th {\n",
       "        vertical-align: top;\n",
       "    }\n",
       "\n",
       "    .dataframe thead th {\n",
       "        text-align: right;\n",
       "    }\n",
       "</style>\n",
       "<table border=\"1\" class=\"dataframe\">\n",
       "  <thead>\n",
       "    <tr style=\"text-align: right;\">\n",
       "      <th></th>\n",
       "      <th>SN</th>\n",
       "      <th>Total Purchases</th>\n",
       "      <th>Total Spent</th>\n",
       "      <th>Average Price</th>\n",
       "    </tr>\n",
       "  </thead>\n",
       "  <tbody>\n",
       "    <tr>\n",
       "      <td>0</td>\n",
       "      <td>Lisosia93</td>\n",
       "      <td>5</td>\n",
       "      <td>18.96</td>\n",
       "      <td>3.792000</td>\n",
       "    </tr>\n",
       "    <tr>\n",
       "      <td>1</td>\n",
       "      <td>Idastidru52</td>\n",
       "      <td>4</td>\n",
       "      <td>15.45</td>\n",
       "      <td>3.862500</td>\n",
       "    </tr>\n",
       "    <tr>\n",
       "      <td>2</td>\n",
       "      <td>Chamjask73</td>\n",
       "      <td>3</td>\n",
       "      <td>13.83</td>\n",
       "      <td>4.610000</td>\n",
       "    </tr>\n",
       "    <tr>\n",
       "      <td>3</td>\n",
       "      <td>Iral74</td>\n",
       "      <td>4</td>\n",
       "      <td>13.62</td>\n",
       "      <td>3.405000</td>\n",
       "    </tr>\n",
       "    <tr>\n",
       "      <td>4</td>\n",
       "      <td>Iskadarya95</td>\n",
       "      <td>3</td>\n",
       "      <td>13.10</td>\n",
       "      <td>4.366667</td>\n",
       "    </tr>\n",
       "  </tbody>\n",
       "</table>\n",
       "</div>"
      ],
      "text/plain": [
       "            SN  Total Purchases  Total Spent  Average Price\n",
       "0    Lisosia93                5        18.96       3.792000\n",
       "1  Idastidru52                4        15.45       3.862500\n",
       "2   Chamjask73                3        13.83       4.610000\n",
       "3       Iral74                4        13.62       3.405000\n",
       "4  Iskadarya95                3        13.10       4.366667"
      ]
     },
     "execution_count": 75,
     "metadata": {},
     "output_type": "execute_result"
    }
   ],
   "source": [
    "#Sort by total spent\n",
    "top_df = top_df.sort_values([\"Total Spent\"], ascending=False)\n",
    "#add average price\n",
    "top_df[\"Average Price\"] = top_df[\"Total Spent\"] / top_df[\"Total Purchases\"]\n",
    "#new index\n",
    "top_spent_df = top_df.reset_index(drop=True)\n",
    "top_spent_df.head()\n"
   ]
  },
  {
   "cell_type": "code",
   "execution_count": 76,
   "metadata": {},
   "outputs": [
    {
     "data": {
      "text/html": [
       "<div>\n",
       "<style scoped>\n",
       "    .dataframe tbody tr th:only-of-type {\n",
       "        vertical-align: middle;\n",
       "    }\n",
       "\n",
       "    .dataframe tbody tr th {\n",
       "        vertical-align: top;\n",
       "    }\n",
       "\n",
       "    .dataframe thead th {\n",
       "        text-align: right;\n",
       "    }\n",
       "</style>\n",
       "<table border=\"1\" class=\"dataframe\">\n",
       "  <thead>\n",
       "    <tr style=\"text-align: right;\">\n",
       "      <th></th>\n",
       "      <th>SN</th>\n",
       "      <th>Total Purchases</th>\n",
       "      <th>Total Spent</th>\n",
       "      <th>Average Price</th>\n",
       "    </tr>\n",
       "  </thead>\n",
       "  <tbody>\n",
       "    <tr>\n",
       "      <td>0</td>\n",
       "      <td>Lisosia93</td>\n",
       "      <td>5</td>\n",
       "      <td>$18.96</td>\n",
       "      <td>$3.79</td>\n",
       "    </tr>\n",
       "    <tr>\n",
       "      <td>1</td>\n",
       "      <td>Idastidru52</td>\n",
       "      <td>4</td>\n",
       "      <td>$15.45</td>\n",
       "      <td>$3.86</td>\n",
       "    </tr>\n",
       "    <tr>\n",
       "      <td>2</td>\n",
       "      <td>Chamjask73</td>\n",
       "      <td>3</td>\n",
       "      <td>$13.83</td>\n",
       "      <td>$4.61</td>\n",
       "    </tr>\n",
       "    <tr>\n",
       "      <td>3</td>\n",
       "      <td>Iral74</td>\n",
       "      <td>4</td>\n",
       "      <td>$13.62</td>\n",
       "      <td>$3.40</td>\n",
       "    </tr>\n",
       "    <tr>\n",
       "      <td>4</td>\n",
       "      <td>Iskadarya95</td>\n",
       "      <td>3</td>\n",
       "      <td>$13.10</td>\n",
       "      <td>$4.37</td>\n",
       "    </tr>\n",
       "  </tbody>\n",
       "</table>\n",
       "</div>"
      ],
      "text/plain": [
       "            SN  Total Purchases Total Spent Average Price\n",
       "0    Lisosia93                5      $18.96         $3.79\n",
       "1  Idastidru52                4      $15.45         $3.86\n",
       "2   Chamjask73                3      $13.83         $4.61\n",
       "3       Iral74                4      $13.62         $3.40\n",
       "4  Iskadarya95                3      $13.10         $4.37"
      ]
     },
     "execution_count": 76,
     "metadata": {},
     "output_type": "execute_result"
    }
   ],
   "source": [
    "#format to $\n",
    "top_spent_df[\"Total Spent\"] = top_spent_df[\"Total Spent\"].map(\"${:.2f}\".format)\n",
    "top_spent_df[\"Average Price\"] = top_spent_df[\"Average Price\"].map(\"${:.2f}\".format)\n",
    "top_spent_df.head()"
   ]
  },
  {
   "cell_type": "code",
   "execution_count": null,
   "metadata": {},
   "outputs": [],
   "source": [
    "#summary table"
   ]
  },
  {
   "cell_type": "markdown",
   "metadata": {},
   "source": [
    "## Most Popular Items"
   ]
  },
  {
   "cell_type": "markdown",
   "metadata": {},
   "source": [
    "* Retrieve the Item ID, Item Name, and Item Price columns\n",
    "\n",
    "\n",
    "* Group by Item ID and Item Name. Perform calculations to obtain purchase count, item price, and total purchase value\n",
    "\n",
    "\n",
    "* Create a summary data frame to hold the results\n",
    "\n",
    "\n",
    "* Sort the purchase count column in descending order\n",
    "\n",
    "\n",
    "* Optional: give the displayed data cleaner formatting\n",
    "\n",
    "\n",
    "* Display a preview of the summary data frame\n",
    "\n"
   ]
  },
  {
   "cell_type": "code",
   "execution_count": null,
   "metadata": {},
   "outputs": [],
   "source": []
  },
  {
   "cell_type": "markdown",
   "metadata": {},
   "source": [
    "## Most Profitable Items"
   ]
  },
  {
   "cell_type": "markdown",
   "metadata": {},
   "source": [
    "* Sort the above table by total purchase value in descending order\n",
    "\n",
    "\n",
    "* Optional: give the displayed data cleaner formatting\n",
    "\n",
    "\n",
    "* Display a preview of the data frame\n",
    "\n"
   ]
  },
  {
   "cell_type": "code",
   "execution_count": null,
   "metadata": {
    "scrolled": true
   },
   "outputs": [],
   "source": []
  }
 ],
 "metadata": {
  "anaconda-cloud": {},
  "kernel_info": {
   "name": "python3"
  },
  "kernelspec": {
   "display_name": "Python 3",
   "language": "python",
   "name": "python3"
  },
  "language_info": {
   "codemirror_mode": {
    "name": "ipython",
    "version": 3
   },
   "file_extension": ".py",
   "mimetype": "text/x-python",
   "name": "python",
   "nbconvert_exporter": "python",
   "pygments_lexer": "ipython3",
   "version": "3.7.4"
  },
  "latex_envs": {
   "LaTeX_envs_menu_present": true,
   "autoclose": false,
   "autocomplete": true,
   "bibliofile": "biblio.bib",
   "cite_by": "apalike",
   "current_citInitial": 1,
   "eqLabelWithNumbers": true,
   "eqNumInitial": 1,
   "hotkeys": {
    "equation": "Ctrl-E",
    "itemize": "Ctrl-I"
   },
   "labels_anchors": false,
   "latex_user_defs": false,
   "report_style_numbering": false,
   "user_envs_cfg": false
  },
  "nteract": {
   "version": "0.2.0"
  }
 },
 "nbformat": 4,
 "nbformat_minor": 2
}
