{
 "cells": [
  {
   "cell_type": "markdown",
   "metadata": {},
   "source": [
    "### Heroes Of Pymoli Data Analysis\n",
    "* Of the 1163 active players, the vast majority are male (84%). There also exists, a smaller, but notable proportion of female players (14%).\n",
    "\n",
    "* Our peak age demographic falls between 20-24 (44.8%) with secondary groups falling between 15-19 (18.60%) and 25-29 (13.4%).  \n",
    "-----"
   ]
  },
  {
   "cell_type": "markdown",
   "metadata": {},
   "source": [
    "### Note\n",
    "* Instructions have been included for each segment. You do not have to follow them exactly, but they are included to help you think through the steps."
   ]
  },
  {
   "cell_type": "code",
   "execution_count": null,
   "metadata": {},
   "outputs": [],
   "source": [
    "# Dependencies and Setup\n",
    "import pandas as pd\n",
    "\n",
    "# File to Load (Remember to Change These)\n",
    "file_to_load = \"Resources/purchase_data.csv\"\n",
    "\n",
    "# Read Purchasing File and store into Pandas data frame\n",
    "purchase_data = pd.read_csv(file_to_load)\n",
    "purchase_data.head()"
   ]
  },
  {
   "cell_type": "markdown",
   "metadata": {},
   "source": [
    "## Player Count"
   ]
  },
  {
   "cell_type": "markdown",
   "metadata": {},
   "source": [
    "* Display the total number of players\n"
   ]
  },
  {
   "cell_type": "code",
   "execution_count": null,
   "metadata": {},
   "outputs": [],
   "source": [
    "tplay = purchase_data.SN.nunique()\n",
    "tplay"
   ]
  },
  {
   "cell_type": "markdown",
   "metadata": {},
   "source": [
    "## Purchasing Analysis (Total)"
   ]
  },
  {
   "cell_type": "markdown",
   "metadata": {},
   "source": [
    "* Run basic calculations to obtain number of unique items, average price, etc.\n",
    "\n",
    "\n",
    "* Create a summary data frame to hold the results\n",
    "\n",
    "\n",
    "* Optional: give the displayed data cleaner formatting\n",
    "\n",
    "\n",
    "* Display the summary data frame\n"
   ]
  },
  {
   "cell_type": "code",
   "execution_count": null,
   "metadata": {
    "scrolled": true
   },
   "outputs": [],
   "source": [
    "#Find number of unique items\n",
    "uniitem = purchase_data[\"Item Name\"].nunique()\n",
    "uniitem"
   ]
  },
  {
   "cell_type": "code",
   "execution_count": null,
   "metadata": {},
   "outputs": [],
   "source": [
    "#Find the average paid for all items\n",
    "avgprice = purchase_data.Price.mean()\n"
   ]
  },
  {
   "cell_type": "code",
   "execution_count": null,
   "metadata": {},
   "outputs": [],
   "source": [
    "purchsum = pd.DataFrame({\"Unique Items\":[uniitem], \"Average Price\": [avgprice]})\n",
    "purchsum[\"Average Price\"] = purchsum[\"Average Price\"].map(\"${:.2f}\".format)\n",
    "purchsum.head()"
   ]
  },
  {
   "cell_type": "markdown",
   "metadata": {},
   "source": [
    "## Gender Demographics"
   ]
  },
  {
   "cell_type": "markdown",
   "metadata": {},
   "source": [
    "* Percentage and Count of Male Players\n",
    "\n",
    "\n",
    "* Percentage and Count of Female Players\n",
    "\n",
    "\n",
    "* Percentage and Count of Other / Non-Disclosed\n",
    "\n",
    "\n"
   ]
  },
  {
   "cell_type": "code",
   "execution_count": null,
   "metadata": {},
   "outputs": [],
   "source": [
    "#Groupby gender, unique count of SN\n",
    "gen_gb = purchase_data.groupby([\"Gender\"])\n",
    "gen_count = gen_gb.nunique()\n",
    "gen_count.head()"
   ]
  },
  {
   "cell_type": "code",
   "execution_count": null,
   "metadata": {},
   "outputs": [],
   "source": [
    "#Counts by Gender\n",
    "malecount = gen_count.loc[\"Male\", \"SN\"]\n",
    "femalecount = gen_count.loc[\"Female\", \"SN\"]\n",
    "othercount = gen_count.loc[\"Other / Non-Disclosed\", \"SN\"]\n"
   ]
  },
  {
   "cell_type": "code",
   "execution_count": null,
   "metadata": {},
   "outputs": [],
   "source": [
    "#Calc percentages\n",
    "maleperc = 100*malecount/tplay\n",
    "femaleperc = 100*femalecount/tplay\n",
    "otherperc = 100*othercount/tplay\n"
   ]
  },
  {
   "cell_type": "code",
   "execution_count": null,
   "metadata": {},
   "outputs": [],
   "source": [
    "#Summary table\n",
    "gendersum = pd.DataFrame({\"Gender\": [\"Male\", \"Female\", \"Other / Non-Disclosed\", \"Total\"],\n",
    "                          \"Unique Players\": [malecount, femalecount, othercount, tplay],\n",
    "                         \"% of Players\": [maleperc, femaleperc, otherperc, \"100%\"]})\n",
    "\n",
    "gendersum.head()"
   ]
  },
  {
   "cell_type": "markdown",
   "metadata": {},
   "source": [
    "\n",
    "## Purchasing Analysis (Gender)"
   ]
  },
  {
   "cell_type": "markdown",
   "metadata": {},
   "source": [
    "* Run basic calculations to obtain purchase count, avg. purchase price, avg. purchase total per person etc. by gender\n",
    "\n",
    "\n",
    "\n",
    "\n",
    "* Create a summary data frame to hold the results\n",
    "\n",
    "\n",
    "* Optional: give the displayed data cleaner formatting\n",
    "\n",
    "\n",
    "* Display the summary data frame"
   ]
  },
  {
   "cell_type": "code",
   "execution_count": null,
   "metadata": {},
   "outputs": [],
   "source": [
    "#total volume of purchases by gender\n",
    "gen_purch = gen_gb.count()\n",
    "malepur = gen_purch.loc[\"Male\", \"Purchase ID\"]\n",
    "femalepur = gen_purch.loc[\"Female\", \"Purchase ID\"]\n",
    "otherpur = gen_purch.loc[\"Other / Non-Disclosed\", \"Purchase ID\"]\n"
   ]
  },
  {
   "cell_type": "code",
   "execution_count": null,
   "metadata": {},
   "outputs": [],
   "source": [
    "#Purchases per player by gender\n",
    "malepurplay = malepur / malecount\n",
    "femalepurplay = femalepur / femalecount\n",
    "otherpurplay = otherpur / othercount\n"
   ]
  },
  {
   "cell_type": "code",
   "execution_count": null,
   "metadata": {},
   "outputs": [],
   "source": [
    "#avg purchase price by gender\n",
    "gen_avgp = gen_gb.mean()\n",
    "maleavgp = gen_avgp.loc[\"Male\", \"Price\"]\n",
    "femaleavgp = gen_avgp.loc[\"Female\", \"Price\"]\n",
    "otheravgp = gen_avgp.loc[\"Other / Non-Disclosed\", \"Price\"]\n",
    "gen_avgp"
   ]
  },
  {
   "cell_type": "code",
   "execution_count": null,
   "metadata": {},
   "outputs": [],
   "source": [
    "#total spent by gender\n",
    "gen_pr = gen_gb.sum()\n",
    "malespent = gen_pr.loc[\"Male\", \"Price\"]\n",
    "femalespent = gen_pr.loc[\"Female\", \"Price\"]\n",
    "otherspent = gen_pr.loc[\"Other / Non-Disclosed\", \"Price\"]"
   ]
  },
  {
   "cell_type": "code",
   "execution_count": null,
   "metadata": {},
   "outputs": [],
   "source": [
    "#avg spent per player by gender\n",
    "maleavgspent = malespent / malecount\n",
    "femaleavgspent = femalespent / femalecount\n",
    "otheravgspent = otherspent / othercount\n"
   ]
  },
  {
   "cell_type": "code",
   "execution_count": null,
   "metadata": {},
   "outputs": [],
   "source": [
    "#New summart table\n",
    "gender_aggs = pd.DataFrame ({\"Gender\": [\"Male\", \"Female\", \"Other / Non-Disclosed\"],\n",
    "                            \"Total Purchases\": [malepur, femalepur, otherpur],\n",
    "                            \"Purchases per Player\": [malepurplay, femalepurplay, otherpurplay],\n",
    "                             \"Avg Purchase Price\": [maleavgp, femaleavgp, otheravgp],\n",
    "                             \"Total Spent\": [malespent, femalespent, otherspent],\n",
    "                             \"Avg Spent per Player\": [maleavgspent, femaleavgspent, otheravgspent]})\n",
    "#cleaner formatting\n",
    "#Format to %\n",
    "gender_aggs[\"Purchases per Player\"] = gender_aggs[\"Purchases per Player\"].map(\"{:.2f}\".format)\n",
    "gender_aggs[\"Avg Purchase Price\"] = gender_aggs[\"Avg Purchase Price\"].map(\"${:.2f}\".format)\n",
    "gender_aggs[\"Total Spent\"] = gender_aggs[\"Total Spent\"].map(\"${:.2f}\".format)\n",
    "gender_aggs[\"Avg Spent per Player\"] = gender_aggs[\"Avg Spent per Player\"].map(\"${:.2f}\".format)\n",
    "gender_aggs.head()"
   ]
  },
  {
   "cell_type": "markdown",
   "metadata": {},
   "source": [
    "## Age Demographics"
   ]
  },
  {
   "cell_type": "markdown",
   "metadata": {},
   "source": [
    "* Establish bins for ages\n",
    "\n",
    "\n",
    "* Categorize the existing players using the age bins. Hint: use pd.cut()\n",
    "\n",
    "\n",
    "* Calculate the numbers and percentages by age group\n",
    "\n",
    "\n",
    "* Create a summary data frame to hold the results\n",
    "\n",
    "\n",
    "* Optional: round the percentage column to two decimal points\n",
    "\n",
    "\n",
    "* Display Age Demographics Table\n"
   ]
  },
  {
   "cell_type": "code",
   "execution_count": null,
   "metadata": {},
   "outputs": [],
   "source": [
    "#bin by 10under, every 5, 40up\n",
    "bins = [0, 10, 15, 20, 25, 30, 35, 40, 150]\n",
    "\n",
    "#bin names\n",
    "group_names = [\"10 & Under\", \"11-15\", \"16-20\", \"21-25\", \"26-30\", \"31-35\", \"36-40\", \"Older than 40\"]\n",
    "\n",
    "purchase_data[\"Age_Group\"] = pd.cut(purchase_data[\"Age\"], bins, labels=group_names, include_lowest=True)\n",
    "purchase_data.Age_Group.value_counts()"
   ]
  },
  {
   "cell_type": "code",
   "execution_count": null,
   "metadata": {},
   "outputs": [],
   "source": [
    "#Total per age group\n",
    "age_gb = purchase_data.groupby([\"Age_Group\"])\n",
    "agegroup = age_gb.nunique()\n",
    "group1 = agegroup.loc[\"10 & Under\", \"SN\"]\n",
    "group2 = agegroup.loc[\"11-15\", \"SN\"]\n",
    "group3 = agegroup.loc[\"16-20\", \"SN\"]\n",
    "group4 = agegroup.loc[\"21-25\", \"SN\"]\n",
    "group5 = agegroup.loc[\"26-30\", \"SN\"]\n",
    "group6 = agegroup.loc[\"31-35\", \"SN\"]\n",
    "group7 = agegroup.loc[\"36-40\", \"SN\"]\n",
    "group8 = agegroup.loc[\"Older than 40\", \"SN\"]\n"
   ]
  },
  {
   "cell_type": "code",
   "execution_count": null,
   "metadata": {},
   "outputs": [],
   "source": [
    "#Percent by age group\n",
    "group_perc1 = group1 / tplay * 100\n",
    "group_perc2 = group2 / tplay * 100\n",
    "group_perc3 = group3 / tplay * 100\n",
    "group_perc4 = group4 / tplay * 100\n",
    "group_perc5 = group5 / tplay * 100\n",
    "group_perc6 = group6 / tplay * 100\n",
    "group_perc7 = group7 / tplay * 100\n",
    "group_perc8 = group8 / tplay * 100"
   ]
  },
  {
   "cell_type": "code",
   "execution_count": null,
   "metadata": {},
   "outputs": [],
   "source": [
    "#Age Group Summary table\n",
    "age_group_sum = pd.DataFrame ({\"Age Group\": group_names,\n",
    "                               \"Number of Players\": [group1, group2, group3, group4, group5, group6, group7, group8],\n",
    "                              \"% of Players\": [group_perc1, group_perc2, group_perc3, group_perc4, group_perc5,\n",
    "                                               group_perc6, group_perc7, group_perc8]})\n",
    "#Format percent\n",
    "age_group_sum[\"% of Players\"] = age_group_sum[\"% of Players\"].map(\"{:.2f}%\".format)\n",
    "age_group_sum.head(10)"
   ]
  },
  {
   "cell_type": "markdown",
   "metadata": {},
   "source": [
    "## Purchasing Analysis (Age)"
   ]
  },
  {
   "cell_type": "markdown",
   "metadata": {},
   "source": [
    "* Bin the purchase_data data frame by age\n",
    "\n",
    "\n",
    "* Run basic calculations to obtain purchase count, avg. purchase price, avg. purchase total per person etc. in the table below\n",
    "\n",
    "\n",
    "* Create a summary data frame to hold the results\n",
    "\n",
    "\n",
    "* Optional: give the displayed data cleaner formatting\n",
    "\n",
    "\n",
    "* Display the summary data frame"
   ]
  },
  {
   "cell_type": "code",
   "execution_count": null,
   "metadata": {},
   "outputs": [],
   "source": [
    "#total volume of purchases by agegroup\n",
    "age_purch = age_gb.count()\n",
    "g1_pur = age_purch.loc[\"10 & Under\", \"Purchase ID\"]\n",
    "g2_pur = age_purch.loc[\"11-15\", \"Purchase ID\"]\n",
    "g3_pur = age_purch.loc[\"16-20\", \"Purchase ID\"]\n",
    "g4_pur = age_purch.loc[\"21-25\", \"Purchase ID\"]\n",
    "g5_pur = age_purch.loc[\"26-30\", \"Purchase ID\"]\n",
    "g6_pur = age_purch.loc[\"31-35\", \"Purchase ID\"]\n",
    "g7_pur = age_purch.loc[\"36-40\", \"Purchase ID\"]\n",
    "g8_pur = age_purch.loc[\"Older than 40\", \"Purchase ID\"]\n"
   ]
  },
  {
   "cell_type": "code",
   "execution_count": null,
   "metadata": {},
   "outputs": [],
   "source": [
    "#Avg purchase per play by age group\n",
    "#Purchases per player by gender\n",
    "g1_purplay = g1_pur / group1\n",
    "g2_purplay = g2_pur / group2\n",
    "g3_purplay = g3_pur / group3\n",
    "g4_purplay = g4_pur / group4\n",
    "g5_purplay = g5_pur / group5\n",
    "g6_purplay = g6_pur / group6\n",
    "g7_purplay = g7_pur / group7\n",
    "g8_purplay = g8_pur / group8\n"
   ]
  },
  {
   "cell_type": "code",
   "execution_count": null,
   "metadata": {},
   "outputs": [],
   "source": [
    "#avg purchase price by agegroup\n",
    "age_avgp = age_gb.mean()\n",
    "g1_avgp = age_avgp.loc[\"10 & Under\", \"Price\"]\n",
    "g2_avgp = age_avgp.loc[\"11-15\", \"Price\"]\n",
    "g3_avgp = age_avgp.loc[\"11-15\", \"Price\"]\n",
    "g4_avgp = age_avgp.loc[\"11-15\", \"Price\"]\n",
    "g5_avgp = age_avgp.loc[\"11-15\", \"Price\"]\n",
    "g6_avgp = age_avgp.loc[\"11-15\", \"Price\"]\n",
    "g7_avgp = age_avgp.loc[\"11-15\", \"Price\"]\n",
    "g8_avgp = age_avgp.loc[\"11-15\", \"Price\"]"
   ]
  },
  {
   "cell_type": "code",
   "execution_count": null,
   "metadata": {},
   "outputs": [],
   "source": [
    "#total spent by age group\n",
    "age_spent = age_gb.sum()\n",
    "g1_spent = age_spent.loc[\"10 & Under\", \"Price\"]\n",
    "g2_spent = age_spent.loc[\"11-15\", \"Price\"]\n",
    "g3_spent = age_spent.loc[\"16-20\", \"Price\"]\n",
    "g4_spent = age_spent.loc[\"21-25\", \"Price\"]\n",
    "g5_spent = age_spent.loc[\"26-30\", \"Price\"]\n",
    "g6_spent = age_spent.loc[\"31-35\", \"Price\"]\n",
    "g7_spent = age_spent.loc[\"36-40\", \"Price\"]\n",
    "g8_spent = age_spent.loc[\"Older than 40\", \"Price\"]"
   ]
  },
  {
   "cell_type": "code",
   "execution_count": null,
   "metadata": {},
   "outputs": [],
   "source": [
    "#avg spent per player by age group\n",
    "g1_spentplay = g1_spent / group1\n",
    "g2_spentplay = g2_spent / group2\n",
    "g3_spentplay = g3_spent / group3\n",
    "g4_spentplay = g4_spent / group4\n",
    "g5_spentplay = g5_spent / group5\n",
    "g6_spentplay = g6_spent / group6\n",
    "g7_spentplay = g7_spent / group7\n",
    "g8_spentplay = g8_spent / group8"
   ]
  },
  {
   "cell_type": "code",
   "execution_count": null,
   "metadata": {},
   "outputs": [],
   "source": [
    "#sum table for age group spendings\n",
    "age_aggs = pd.DataFrame ({\"Age Group\": group_names,\n",
    "                               \"Total Purchases\": [g1_pur, g2_pur, g3_pur, g4_pur, g5_pur, g6_pur, g7_pur, g8_pur],\n",
    "                               \"Purchases per Player\": [g1_purplay, g2_purplay, g3_purplay, g4_purplay,\n",
    "                                                        g5_purplay, g6_purplay, g7_purplay, g8_purplay],\n",
    "                               \"Avg Purchase Price\": [g1_avgp, g2_avgp, g3_avgp, g4_avgp, g5_avgp, g6_avgp, g7_avgp, g8_avgp],\n",
    "                               \"Total Spent\": [g1_spent, g2_spent, g3_spent, g4_spent, g5_spent, g6_spent, g7_spent, g8_spent],\n",
    "                               \"Avg Spent per Player\": [g1_spentplay, g2_spentplay, g3_spentplay, g4_spentplay, g5_spentplay, g6_spentplay, g7_spentplay, g8_spentplay]})\n",
    "#reformat\n",
    "age_aggs[\"Purchases per Player\"] = age_aggs[\"Purchases per Player\"].map(\"{:.2f}\".format)\n",
    "age_aggs[\"Avg Purchase Price\"] = age_aggs[\"Avg Purchase Price\"].map(\"${:.2f}\".format)\n",
    "age_aggs[\"Total Spent\"] = age_aggs[\"Total Spent\"].map(\"${:.2f}\".format)\n",
    "age_aggs[\"Avg Spent per Player\"] = age_aggs[\"Avg Spent per Player\"].map(\"${:.2f}\".format)\n",
    "age_aggs.head()"
   ]
  },
  {
   "cell_type": "markdown",
   "metadata": {},
   "source": [
    "## Top Spenders"
   ]
  },
  {
   "cell_type": "markdown",
   "metadata": {},
   "source": [
    "* Run basic calculations to obtain the results in the table below\n",
    "\n",
    "\n",
    "* Create a summary data frame to hold the results\n",
    "\n",
    "\n",
    "* Sort the total purchase value column in descending order\n",
    "\n",
    "\n",
    "* Optional: give the displayed data cleaner formatting\n",
    "\n",
    "\n",
    "* Display a preview of the summary data frame\n",
    "\n"
   ]
  },
  {
   "cell_type": "code",
   "execution_count": null,
   "metadata": {},
   "outputs": [],
   "source": [
    "#groupby sn. Create DFs for count and sum\n",
    "sn_gb = purchase_data.groupby([\"SN\"])\n",
    "#Total purchases per player\n",
    "tpurch = sn_gb[\"Purchase ID\"].count().reset_index(drop = False)\n",
    "#Total spent per player\n",
    "tprice = sn_gb.Price.sum().reset_index(drop = False)\n",
    "tpurch.head()"
   ]
  },
  {
   "cell_type": "code",
   "execution_count": null,
   "metadata": {},
   "outputs": [],
   "source": [
    "#Merge DFs\n",
    "merge_df = pd.merge(tpurch, tprice, on = \"SN\", how = \"inner\")\n",
    "#rename purchase id to total pruchases, price to total spent\n",
    "top_df = merge_df.rename(columns={\"Purchase ID\": \"Total Purchases\", \"Price\": \"Total Spent\"})\n",
    "top_df.head()"
   ]
  },
  {
   "cell_type": "code",
   "execution_count": null,
   "metadata": {},
   "outputs": [],
   "source": [
    "#Sort by total spent\n",
    "top_df = top_df.sort_values([\"Total Spent\"], ascending=False)\n",
    "#add average price\n",
    "top_df[\"Average Price\"] = top_df[\"Total Spent\"] / top_df[\"Total Purchases\"]\n",
    "#new index\n",
    "top_spent_df = top_df.reset_index(drop=True)\n",
    "top_spent_df.head()\n"
   ]
  },
  {
   "cell_type": "code",
   "execution_count": null,
   "metadata": {},
   "outputs": [],
   "source": [
    "#format to $\n",
    "top_spent_df[\"Total Spent\"] = top_spent_df[\"Total Spent\"].map(\"${:.2f}\".format)\n",
    "top_spent_df[\"Average Price\"] = top_spent_df[\"Average Price\"].map(\"${:.2f}\".format)\n",
    "top5 = top_spent_df.head(5)\n",
    "top5"
   ]
  },
  {
   "cell_type": "markdown",
   "metadata": {},
   "source": [
    "## Most Popular Items"
   ]
  },
  {
   "cell_type": "markdown",
   "metadata": {},
   "source": [
    "* Retrieve the Item ID, Item Name, and Item Price columns\n",
    "\n",
    "\n",
    "* Group by Item ID and Item Name. Perform calculations to obtain purchase count, item price, and total purchase value\n",
    "\n",
    "\n",
    "* Create a summary data frame to hold the results\n",
    "\n",
    "\n",
    "* Sort the purchase count column in descending order\n",
    "\n",
    "\n",
    "* Optional: give the displayed data cleaner formatting\n",
    "\n",
    "\n",
    "* Display a preview of the summary data frame\n",
    "\n"
   ]
  },
  {
   "cell_type": "code",
   "execution_count": null,
   "metadata": {},
   "outputs": [],
   "source": [
    "#create df for item info\n",
    "items_df = purchase_data[[\"Purchase ID\", \"Item ID\", \"Item Name\", \"Price\"]]\n",
    "items_df.head()"
   ]
  },
  {
   "cell_type": "code",
   "execution_count": null,
   "metadata": {},
   "outputs": [],
   "source": [
    "#group id and name\n",
    "items_gb = items_df.groupby([\"Item ID\", \"Item Name\"])\n"
   ]
  },
  {
   "cell_type": "code",
   "execution_count": null,
   "metadata": {},
   "outputs": [],
   "source": [
    "#create df from counts\n",
    "items_count_df = items_gb.count()\n",
    "items_count_rename = items_count_df.rename(columns={\"Purchase ID\": \"Number of Purchases\"})\n",
    "del items_count_rename[\"Price\"]\n",
    "items_count_rename.head()"
   ]
  },
  {
   "cell_type": "code",
   "execution_count": null,
   "metadata": {
    "scrolled": true
   },
   "outputs": [],
   "source": [
    "#create df for totals\n",
    "items_tot_df = items_gb.sum()\n",
    "items_tot_rename = items_tot_df.rename(columns={\"Price\": \"Total\"})\n",
    "del items_tot_rename[\"Purchase ID\"]\n",
    "items_tot_rename.head()\n"
   ]
  },
  {
   "cell_type": "code",
   "execution_count": null,
   "metadata": {},
   "outputs": [],
   "source": [
    "items_price = items_gb.mean()\n",
    "del items_price[\"Purchase ID\"]\n",
    "items_price.head()\n"
   ]
  },
  {
   "cell_type": "code",
   "execution_count": null,
   "metadata": {},
   "outputs": [],
   "source": [
    "#merge\n",
    "items_m = pd.merge(items_count_rename, items_price, on = [\"Item ID\", \"Item Name\"], how = \"inner\")\n",
    "items_merge = pd.merge(items_m, items_tot_rename, on = [\"Item ID\", \"Item Name\"], how = \"inner\")\n",
    "items_merge.head()"
   ]
  },
  {
   "cell_type": "code",
   "execution_count": null,
   "metadata": {},
   "outputs": [],
   "source": [
    "#sort by purchase total, clean format\n",
    "top_seller = items_merge.sort_values([\"Number of Purchases\"], ascending=False)\n",
    "top_seller[\"Price\"] = top_seller[\"Price\"].map(\"${:.2f}\".format)\n",
    "top_seller[\"Total\"] = top_seller[\"Total\"].map(\"${:.2f}\".format)\n",
    "top_seller.head(10)\n"
   ]
  },
  {
   "cell_type": "markdown",
   "metadata": {},
   "source": [
    "## Most Profitable Items"
   ]
  },
  {
   "cell_type": "markdown",
   "metadata": {},
   "source": [
    "* Sort the above table by total purchase value in descending order\n",
    "\n",
    "\n",
    "* Optional: give the displayed data cleaner formatting\n",
    "\n",
    "\n",
    "* Display a preview of the data frame\n",
    "\n"
   ]
  },
  {
   "cell_type": "code",
   "execution_count": null,
   "metadata": {
    "scrolled": true
   },
   "outputs": [],
   "source": [
    "#sort by top total, clean format\n",
    "top_earner = items_merge.sort_values([\"Total\"], ascending=False)\n",
    "top_earner[\"Price\"] = top_earner[\"Price\"].map(\"${:.2f}\".format)\n",
    "top_earner[\"Total\"] = top_earner[\"Total\"].map(\"${:.2f}\".format)\n",
    "top_earner.head(10)"
   ]
  },
  {
   "cell_type": "code",
   "execution_count": null,
   "metadata": {},
   "outputs": [],
   "source": [
    "#write to summary tables in xlsx to copy into report\n",
    "#List of variables and sum tables to print\n",
    "    # tplay, purchsum, gendersum, gender_aggs, age_group_sum,\n",
    "    # age_aggs, top5, top_seller, top_earner\n",
    "\n",
    "#writer = pd.ExcelWriter('pandas_multiple.xlsx', engine='xlsxwriter')\n",
    "\n",
    "# Write each dataframe to a different worksheet.\n",
    "#df1.to_excel(writer, sheet_name='Sheet1')\n",
    "#df2.to_excel(writer, sheet_name='Sheet2')\n",
    "#df3.to_excel(writer, sheet_name='Sheet3')\n",
    "\n",
    "# Close the Pandas Excel writer and output the Excel file.\n",
    "#writer.save()"
   ]
  }
 ],
 "metadata": {
  "anaconda-cloud": {},
  "kernel_info": {
   "name": "python3"
  },
  "kernelspec": {
   "display_name": "Python 3",
   "language": "python",
   "name": "python3"
  },
  "language_info": {
   "codemirror_mode": {
    "name": "ipython",
    "version": 3
   },
   "file_extension": ".py",
   "mimetype": "text/x-python",
   "name": "python",
   "nbconvert_exporter": "python",
   "pygments_lexer": "ipython3",
   "version": "3.7.4"
  },
  "latex_envs": {
   "LaTeX_envs_menu_present": true,
   "autoclose": false,
   "autocomplete": true,
   "bibliofile": "biblio.bib",
   "cite_by": "apalike",
   "current_citInitial": 1,
   "eqLabelWithNumbers": true,
   "eqNumInitial": 1,
   "hotkeys": {
    "equation": "Ctrl-E",
    "itemize": "Ctrl-I"
   },
   "labels_anchors": false,
   "latex_user_defs": false,
   "report_style_numbering": false,
   "user_envs_cfg": false
  },
  "nteract": {
   "version": "0.2.0"
  }
 },
 "nbformat": 4,
 "nbformat_minor": 2
}
