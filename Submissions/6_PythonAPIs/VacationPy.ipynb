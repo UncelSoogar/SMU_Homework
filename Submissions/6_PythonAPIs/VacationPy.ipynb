{
 "cells": [
  {
   "cell_type": "markdown",
   "metadata": {},
   "source": [
    "# VacationPy\n",
    "----\n",
    "\n",
    "#### Note\n",
    "* Instructions have been included for each segment. You do not have to follow them exactly, but they are included to help you think through the steps."
   ]
  },
  {
   "cell_type": "code",
   "execution_count": 1,
   "metadata": {},
   "outputs": [],
   "source": [
    "# Dependencies and Setup\n",
    "import matplotlib.pyplot as plt\n",
    "import pandas as pd\n",
    "import numpy as np\n",
    "import requests\n",
    "import gmaps\n",
    "import os\n",
    "\n",
    "# Import API key\n",
    "from api_keys import g_key"
   ]
  },
  {
   "cell_type": "markdown",
   "metadata": {},
   "source": [
    "### Store Part I results into DataFrame\n",
    "* Load the csv exported in Part I to a DataFrame"
   ]
  },
  {
   "cell_type": "code",
   "execution_count": 2,
   "metadata": {},
   "outputs": [
    {
     "data": {
      "text/html": [
       "<div>\n",
       "<style scoped>\n",
       "    .dataframe tbody tr th:only-of-type {\n",
       "        vertical-align: middle;\n",
       "    }\n",
       "\n",
       "    .dataframe tbody tr th {\n",
       "        vertical-align: top;\n",
       "    }\n",
       "\n",
       "    .dataframe thead th {\n",
       "        text-align: right;\n",
       "    }\n",
       "</style>\n",
       "<table border=\"1\" class=\"dataframe\">\n",
       "  <thead>\n",
       "    <tr style=\"text-align: right;\">\n",
       "      <th></th>\n",
       "      <th>City ID</th>\n",
       "      <th>City</th>\n",
       "      <th>Country</th>\n",
       "      <th>Lat</th>\n",
       "      <th>Lng</th>\n",
       "      <th>Max Temp</th>\n",
       "      <th>Humidity</th>\n",
       "      <th>Cloudiness</th>\n",
       "      <th>Wind Speed</th>\n",
       "      <th>Date</th>\n",
       "    </tr>\n",
       "  </thead>\n",
       "  <tbody>\n",
       "    <tr>\n",
       "      <td>0</td>\n",
       "      <td>2074865</td>\n",
       "      <td>Carnarvon</td>\n",
       "      <td>AU</td>\n",
       "      <td>-24.87</td>\n",
       "      <td>113.63</td>\n",
       "      <td>73.40</td>\n",
       "      <td>100.0</td>\n",
       "      <td>0.0</td>\n",
       "      <td>8.05</td>\n",
       "      <td>1588606465</td>\n",
       "    </tr>\n",
       "    <tr>\n",
       "      <td>1</td>\n",
       "      <td>5847411</td>\n",
       "      <td>Kahului</td>\n",
       "      <td>US</td>\n",
       "      <td>20.89</td>\n",
       "      <td>-156.47</td>\n",
       "      <td>75.20</td>\n",
       "      <td>69.0</td>\n",
       "      <td>90.0</td>\n",
       "      <td>14.99</td>\n",
       "      <td>1588606225</td>\n",
       "    </tr>\n",
       "    <tr>\n",
       "      <td>2</td>\n",
       "      <td>2071860</td>\n",
       "      <td>Esperance</td>\n",
       "      <td>AU</td>\n",
       "      <td>-33.87</td>\n",
       "      <td>121.90</td>\n",
       "      <td>66.20</td>\n",
       "      <td>77.0</td>\n",
       "      <td>90.0</td>\n",
       "      <td>5.82</td>\n",
       "      <td>1588606467</td>\n",
       "    </tr>\n",
       "    <tr>\n",
       "      <td>3</td>\n",
       "      <td>3423146</td>\n",
       "      <td>Ilulissat</td>\n",
       "      <td>GL</td>\n",
       "      <td>69.22</td>\n",
       "      <td>-51.10</td>\n",
       "      <td>24.80</td>\n",
       "      <td>68.0</td>\n",
       "      <td>75.0</td>\n",
       "      <td>16.11</td>\n",
       "      <td>1588606469</td>\n",
       "    </tr>\n",
       "    <tr>\n",
       "      <td>4</td>\n",
       "      <td>4030556</td>\n",
       "      <td>Rikitea</td>\n",
       "      <td>PF</td>\n",
       "      <td>-23.12</td>\n",
       "      <td>-134.97</td>\n",
       "      <td>73.94</td>\n",
       "      <td>65.0</td>\n",
       "      <td>100.0</td>\n",
       "      <td>11.97</td>\n",
       "      <td>1588606464</td>\n",
       "    </tr>\n",
       "  </tbody>\n",
       "</table>\n",
       "</div>"
      ],
      "text/plain": [
       "   City ID       City Country    Lat     Lng  Max Temp  Humidity  Cloudiness  \\\n",
       "0  2074865  Carnarvon      AU -24.87  113.63     73.40     100.0         0.0   \n",
       "1  5847411    Kahului      US  20.89 -156.47     75.20      69.0        90.0   \n",
       "2  2071860  Esperance      AU -33.87  121.90     66.20      77.0        90.0   \n",
       "3  3423146  Ilulissat      GL  69.22  -51.10     24.80      68.0        75.0   \n",
       "4  4030556    Rikitea      PF -23.12 -134.97     73.94      65.0       100.0   \n",
       "\n",
       "   Wind Speed        Date  \n",
       "0        8.05  1588606465  \n",
       "1       14.99  1588606225  \n",
       "2        5.82  1588606467  \n",
       "3       16.11  1588606469  \n",
       "4       11.97  1588606464  "
      ]
     },
     "execution_count": 2,
     "metadata": {},
     "output_type": "execute_result"
    }
   ],
   "source": [
    "df= pd.read_csv('IdealCities.csv')\n",
    "df.head()\n"
   ]
  },
  {
   "cell_type": "markdown",
   "metadata": {},
   "source": [
    "### Humidity Heatmap\n",
    "* Configure gmaps.\n",
    "* Use the Lat and Lng as locations and Humidity as the weight.\n",
    "* Add Heatmap layer to map."
   ]
  },
  {
   "cell_type": "code",
   "execution_count": 3,
   "metadata": {},
   "outputs": [],
   "source": [
    "# Configure gmaps\n",
    "gmaps.configure(api_key=g_key)"
   ]
  },
  {
   "cell_type": "code",
   "execution_count": 4,
   "metadata": {},
   "outputs": [],
   "source": [
    "#Store locations and humidities\n",
    "locations = df[['Lat', 'Lng']]\n",
    "humidity = df.Humidity"
   ]
  },
  {
   "cell_type": "code",
   "execution_count": 5,
   "metadata": {},
   "outputs": [
    {
     "data": {
      "application/vnd.jupyter.widget-view+json": {
       "model_id": "44830614b3d4485b8ee8aefea936d4da",
       "version_major": 2,
       "version_minor": 0
      },
      "text/plain": [
       "Figure(layout=FigureLayout(height='420px'))"
      ]
     },
     "metadata": {},
     "output_type": "display_data"
    }
   ],
   "source": [
    "# Create heatmap\n",
    "fig = gmaps.figure(map_type=\"HYBRID\")\n",
    "\n",
    "# Create heat layer\n",
    "heat_layer = gmaps.heatmap_layer(locations, weights=humidity, dissipating=True)\n",
    "\n",
    "\n",
    "# Add layer\n",
    "fig.add_layer(heat_layer)\n",
    "\n",
    "# Display figure\n",
    "fig"
   ]
  },
  {
   "cell_type": "markdown",
   "metadata": {},
   "source": [
    "### Create new DataFrame fitting weather criteria\n",
    "* Narrow down the cities to fit weather conditions.\n",
    "* Drop any rows will null values."
   ]
  },
  {
   "cell_type": "code",
   "execution_count": 9,
   "metadata": {},
   "outputs": [
    {
     "data": {
      "text/plain": [
       "6"
      ]
     },
     "execution_count": 9,
     "metadata": {},
     "output_type": "execute_result"
    }
   ],
   "source": [
    "mask1 = (df['Max Temp'] >= 77) & (df['Max Temp'] < 85)\n",
    "mask2 = (df['Wind Speed'] > 5) & (df['Wind Speed'] < 10)\n",
    "mask3 = df.Cloudiness < 20\n",
    "mask4 = df.Humidity < 70\n",
    "mask5 = mask1 & mask2 & mask3 & mask4\n",
    "\n",
    "ideal_cities = df.loc[mask5].reset_index(drop=True)\n",
    "len(ideal_cities)"
   ]
  },
  {
   "cell_type": "markdown",
   "metadata": {},
   "source": [
    "### Hotel Map\n",
    "* Store into variable named `hotel_df`.\n",
    "* Add a \"Hotel Name\" column to the DataFrame.\n",
    "* Set parameters to search for hotels with 5000 meters.\n",
    "* Hit the Google Places API for each city's coordinates.\n",
    "* Store the first Hotel result into the DataFrame.\n",
    "* Plot markers on top of the heatmap."
   ]
  },
  {
   "cell_type": "code",
   "execution_count": 10,
   "metadata": {},
   "outputs": [
    {
     "data": {
      "text/plain": [
       "'Hotel Cristo Rei'"
      ]
     },
     "execution_count": 10,
     "metadata": {},
     "output_type": "execute_result"
    }
   ],
   "source": [
    "#Find a hotel. Change row for lat and lng if no result found\n",
    "params = {\n",
    "    \"radius\": 5000,\n",
    "    \"types\": \"hotel\",\n",
    "    \"keyword\": \"hotel\",\n",
    "    \"key\": g_key\n",
    "}\n",
    "\n",
    "lat = ideal_cities[\"Lat\"][1]\n",
    "lng = ideal_cities[\"Lng\"][1]\n",
    "\n",
    "params[\"location\"] = f\"{lat},{lng}\"\n",
    "\n",
    "base_url = \"https://maps.googleapis.com/maps/api/place/nearbysearch/json\"\n",
    "\n",
    "name_address = requests.get(base_url, params=params)\n",
    "name_address = name_address.json()\n",
    "\n",
    "name_address['results'][0]['name']"
   ]
  },
  {
   "cell_type": "code",
   "execution_count": 11,
   "metadata": {},
   "outputs": [
    {
     "name": "stdout",
     "output_type": "stream",
     "text": [
      "No hotels listed nearby.\n",
      "No hotels listed nearby.\n"
     ]
    }
   ],
   "source": [
    "#iterrate through all locations\n",
    "names = []\n",
    "addresses = []\n",
    "ratings = []\n",
    "\n",
    "params = {\n",
    "    \"radius\": 5000,\n",
    "    \"types\": \"hotel\",\n",
    "    \"keyword\": \"hotel\",\n",
    "    \"key\": g_key\n",
    "}\n",
    "\n",
    "for index, row in ideal_cities.iterrows():\n",
    "    # get lat, lng from df\n",
    "    lat = row[\"Lat\"]\n",
    "    lng = row[\"Lng\"]\n",
    "\n",
    "    # change location each iteration while leaving original params in place\n",
    "    params[\"location\"] = f\"{lat},{lng}\"\n",
    "\n",
    "    # create url\n",
    "    base_url = \"https://maps.googleapis.com/maps/api/place/nearbysearch/json\"\n",
    "\n",
    "    # make request and print url\n",
    "    name_address = requests.get(base_url, params=params)\n",
    "\n",
    "    # convert to json\n",
    "    name_address = name_address.json()\n",
    "    \n",
    "    try:\n",
    "        names.append(name_address[\"results\"][0][\"name\"])\n",
    "        addresses.append(name_address[\"results\"][0][\"vicinity\"])\n",
    "        ratings.append(name_address[\"results\"][0][\"rating\"])\n",
    "    except (KeyError, IndexError):\n",
    "        print(\"No hotels listed nearby.\")\n",
    "        names.append(\"No listed hotels\")\n",
    "        addresses.append(\"\")\n",
    "        ratings.append(\"\")"
   ]
  },
  {
   "cell_type": "code",
   "execution_count": 12,
   "metadata": {},
   "outputs": [
    {
     "data": {
      "text/html": [
       "<div>\n",
       "<style scoped>\n",
       "    .dataframe tbody tr th:only-of-type {\n",
       "        vertical-align: middle;\n",
       "    }\n",
       "\n",
       "    .dataframe tbody tr th {\n",
       "        vertical-align: top;\n",
       "    }\n",
       "\n",
       "    .dataframe thead th {\n",
       "        text-align: right;\n",
       "    }\n",
       "</style>\n",
       "<table border=\"1\" class=\"dataframe\">\n",
       "  <thead>\n",
       "    <tr style=\"text-align: right;\">\n",
       "      <th></th>\n",
       "      <th>City ID</th>\n",
       "      <th>City</th>\n",
       "      <th>Country</th>\n",
       "      <th>Lat</th>\n",
       "      <th>Lng</th>\n",
       "      <th>Max Temp</th>\n",
       "      <th>Humidity</th>\n",
       "      <th>Cloudiness</th>\n",
       "      <th>Wind Speed</th>\n",
       "      <th>Date</th>\n",
       "      <th>Hotel</th>\n",
       "      <th>Address</th>\n",
       "      <th>Rating</th>\n",
       "    </tr>\n",
       "  </thead>\n",
       "  <tbody>\n",
       "    <tr>\n",
       "      <td>0</td>\n",
       "      <td>161943</td>\n",
       "      <td>Gumdag</td>\n",
       "      <td>TM</td>\n",
       "      <td>39.21</td>\n",
       "      <td>54.59</td>\n",
       "      <td>83.05</td>\n",
       "      <td>25.0</td>\n",
       "      <td>0.0</td>\n",
       "      <td>6.04</td>\n",
       "      <td>1588606628</td>\n",
       "      <td>No listed hotels</td>\n",
       "      <td></td>\n",
       "      <td></td>\n",
       "    </tr>\n",
       "    <tr>\n",
       "      <td>1</td>\n",
       "      <td>3451478</td>\n",
       "      <td>Riachao Das Neves</td>\n",
       "      <td>BR</td>\n",
       "      <td>-11.75</td>\n",
       "      <td>-44.91</td>\n",
       "      <td>84.60</td>\n",
       "      <td>49.0</td>\n",
       "      <td>19.0</td>\n",
       "      <td>5.46</td>\n",
       "      <td>1588606649</td>\n",
       "      <td>Hotel Cristo Rei</td>\n",
       "      <td>-680, Av. Juarez de Souza, 618, Riachão das Neves</td>\n",
       "      <td>3.6</td>\n",
       "    </tr>\n",
       "    <tr>\n",
       "      <td>2</td>\n",
       "      <td>3455020</td>\n",
       "      <td>Parauna</td>\n",
       "      <td>BR</td>\n",
       "      <td>-16.95</td>\n",
       "      <td>-50.45</td>\n",
       "      <td>78.64</td>\n",
       "      <td>46.0</td>\n",
       "      <td>6.0</td>\n",
       "      <td>5.32</td>\n",
       "      <td>1588606738</td>\n",
       "      <td>Hotel Cristo Redentor</td>\n",
       "      <td>Av. Juscelino Kubitscheck, 2205-2307, Paraúna</td>\n",
       "      <td>4.2</td>\n",
       "    </tr>\n",
       "    <tr>\n",
       "      <td>3</td>\n",
       "      <td>3970558</td>\n",
       "      <td>Rio Muerto</td>\n",
       "      <td>MX</td>\n",
       "      <td>27.42</td>\n",
       "      <td>-110.23</td>\n",
       "      <td>78.80</td>\n",
       "      <td>34.0</td>\n",
       "      <td>5.0</td>\n",
       "      <td>9.17</td>\n",
       "      <td>1588606742</td>\n",
       "      <td>No listed hotels</td>\n",
       "      <td></td>\n",
       "      <td></td>\n",
       "    </tr>\n",
       "    <tr>\n",
       "      <td>4</td>\n",
       "      <td>1256025</td>\n",
       "      <td>Sirur</td>\n",
       "      <td>IN</td>\n",
       "      <td>18.83</td>\n",
       "      <td>74.38</td>\n",
       "      <td>80.85</td>\n",
       "      <td>31.0</td>\n",
       "      <td>0.0</td>\n",
       "      <td>8.95</td>\n",
       "      <td>1588614878</td>\n",
       "      <td>MARVEL INN, HOTEL &amp; BANQUET HALL</td>\n",
       "      <td>Shree Prestige, Nagar - Pune Rd, Shirur</td>\n",
       "      <td>4.4</td>\n",
       "    </tr>\n",
       "    <tr>\n",
       "      <td>5</td>\n",
       "      <td>3347019</td>\n",
       "      <td>Namibe</td>\n",
       "      <td>AO</td>\n",
       "      <td>-15.20</td>\n",
       "      <td>12.15</td>\n",
       "      <td>77.18</td>\n",
       "      <td>66.0</td>\n",
       "      <td>0.0</td>\n",
       "      <td>6.62</td>\n",
       "      <td>1588614935</td>\n",
       "      <td>Hotel ibis Styles Iu Namibe</td>\n",
       "      <td>Avenida Eduardo Mondlane, Namibe</td>\n",
       "      <td>3.6</td>\n",
       "    </tr>\n",
       "  </tbody>\n",
       "</table>\n",
       "</div>"
      ],
      "text/plain": [
       "   City ID               City Country    Lat     Lng  Max Temp  Humidity  \\\n",
       "0   161943             Gumdag      TM  39.21   54.59     83.05      25.0   \n",
       "1  3451478  Riachao Das Neves      BR -11.75  -44.91     84.60      49.0   \n",
       "2  3455020            Parauna      BR -16.95  -50.45     78.64      46.0   \n",
       "3  3970558         Rio Muerto      MX  27.42 -110.23     78.80      34.0   \n",
       "4  1256025              Sirur      IN  18.83   74.38     80.85      31.0   \n",
       "5  3347019             Namibe      AO -15.20   12.15     77.18      66.0   \n",
       "\n",
       "   Cloudiness  Wind Speed        Date                             Hotel  \\\n",
       "0         0.0        6.04  1588606628                  No listed hotels   \n",
       "1        19.0        5.46  1588606649                  Hotel Cristo Rei   \n",
       "2         6.0        5.32  1588606738             Hotel Cristo Redentor   \n",
       "3         5.0        9.17  1588606742                  No listed hotels   \n",
       "4         0.0        8.95  1588614878  MARVEL INN, HOTEL & BANQUET HALL   \n",
       "5         0.0        6.62  1588614935       Hotel ibis Styles Iu Namibe   \n",
       "\n",
       "                                             Address Rating  \n",
       "0                                                            \n",
       "1  -680, Av. Juarez de Souza, 618, Riachão das Neves    3.6  \n",
       "2      Av. Juscelino Kubitscheck, 2205-2307, Paraúna    4.2  \n",
       "3                                                            \n",
       "4            Shree Prestige, Nagar - Pune Rd, Shirur    4.4  \n",
       "5                   Avenida Eduardo Mondlane, Namibe    3.6  "
      ]
     },
     "execution_count": 12,
     "metadata": {},
     "output_type": "execute_result"
    }
   ],
   "source": [
    "ideal_cities[\"Hotel\"] = names\n",
    "ideal_cities[\"Address\"] = addresses\n",
    "ideal_cities[\"Rating\"] = ratings\n",
    "ideal_cities.head(15)"
   ]
  },
  {
   "cell_type": "code",
   "execution_count": 15,
   "metadata": {},
   "outputs": [],
   "source": [
    "# Add marker layer ontop of heat map\n",
    "#Plot locations with marker popups\n",
    "\n",
    "#define locations\n",
    "coordinates = ideal_cities[['Lat', 'Lng']]\n",
    "\n",
    "#store weather and city info\n",
    "hotelinfo= []\n",
    "for indx, row in ideal_cities.iterrows():\n",
    "    info_box = f\"\"\"\n",
    "                <dl>\n",
    "                <dt>City</dt><dd>{row.City}</dd>\n",
    "                <dt>Country</dt><dd>{row.Country}</dd>\n",
    "                <dt>Temp</dt><dd>{row['Max Temp']}</dd>\n",
    "                <dt>Cloudiness</dt><dd>{row.Cloudiness}%</dd>\n",
    "                <dt>Hotel Name</dt><dd>{row.Hotel}</dd>\n",
    "                </dl>\n",
    "                \"\"\"\n",
    "    \n",
    "    hotelinfo.append(info_box)\n",
    "\n",
    "# Display figure\n"
   ]
  },
  {
   "cell_type": "code",
   "execution_count": 16,
   "metadata": {},
   "outputs": [
    {
     "data": {
      "application/vnd.jupyter.widget-view+json": {
       "model_id": "878e77d9aee5448883e454e4c56f08c6",
       "version_major": 2,
       "version_minor": 0
      },
      "text/plain": [
       "Figure(layout=FigureLayout(height='420px'))"
      ]
     },
     "metadata": {},
     "output_type": "display_data"
    }
   ],
   "source": [
    "#make plot\n",
    "fighotel = gmaps.figure(map_type=\"HYBRID\")\n",
    "\n",
    "# Add markers\n",
    "markers = gmaps.marker_layer(coordinates, info_box_content=hotelinfo )\n",
    "\n",
    "# Add marker layer\n",
    "fighotel.add_layer(markers)\n",
    "\n",
    "# Display figure\n",
    "fighotel"
   ]
  }
 ],
 "metadata": {
  "kernelspec": {
   "display_name": "Python 3",
   "language": "python",
   "name": "python3"
  },
  "language_info": {
   "codemirror_mode": {
    "name": "ipython",
    "version": 3
   },
   "file_extension": ".py",
   "mimetype": "text/x-python",
   "name": "python",
   "nbconvert_exporter": "python",
   "pygments_lexer": "ipython3",
   "version": "3.7.4"
  },
  "latex_envs": {
   "LaTeX_envs_menu_present": true,
   "autoclose": false,
   "autocomplete": true,
   "bibliofile": "biblio.bib",
   "cite_by": "apalike",
   "current_citInitial": 1,
   "eqLabelWithNumbers": true,
   "eqNumInitial": 1,
   "hotkeys": {
    "equation": "Ctrl-E",
    "itemize": "Ctrl-I"
   },
   "labels_anchors": false,
   "latex_user_defs": false,
   "report_style_numbering": false,
   "user_envs_cfg": false
  }
 },
 "nbformat": 4,
 "nbformat_minor": 2
}
