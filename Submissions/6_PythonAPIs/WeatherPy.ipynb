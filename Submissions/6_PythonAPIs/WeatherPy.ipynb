{
 "cells": [
  {
   "cell_type": "markdown",
   "metadata": {},
   "source": [
    "# WeatherPy\n",
    "----\n",
    "\n",
    "#### Note\n",
    "* Instructions have been included for each segment. You do not have to follow them exactly, but they are included to help you think through the steps."
   ]
  },
  {
   "cell_type": "code",
   "execution_count": 1,
   "metadata": {
    "scrolled": true
   },
   "outputs": [],
   "source": [
    "# Dependencies and Setup\n",
    "import matplotlib.pyplot as plt\n",
    "import pandas as pd\n",
    "import numpy as np\n",
    "import requests\n",
    "import time\n",
    "from scipy.stats import linregress\n",
    "from pprint import pprint\n",
    "import seaborn as sn\n",
    "\n",
    "# Import API key\n",
    "from api_keys import weather_api_key\n",
    "\n",
    "# Incorporated citipy to determine city based on latitude and longitude\n",
    "from citipy import citipy\n",
    "\n",
    "# Output File (CSV)\n",
    "output_data_file = \"output_data/cities.csv\"\n",
    "\n",
    "# Range of latitudes and longitudes\n",
    "lat_range = (-90, 90)\n",
    "lng_range = (-180, 180)"
   ]
  },
  {
   "cell_type": "markdown",
   "metadata": {},
   "source": [
    "## Generate Cities List"
   ]
  },
  {
   "cell_type": "code",
   "execution_count": 2,
   "metadata": {},
   "outputs": [
    {
     "data": {
      "text/plain": [
       "602"
      ]
     },
     "execution_count": 2,
     "metadata": {},
     "output_type": "execute_result"
    }
   ],
   "source": [
    "# List for holding lat_lngs and cities\n",
    "lat_lngs = []\n",
    "cities = []\n",
    "\n",
    "# Create a set of random lat and lng combinations\n",
    "lats = np.random.uniform(lat_range[0], lat_range[1], size=1500)\n",
    "lngs = np.random.uniform(lng_range[0], lng_range[1], size=1500)\n",
    "lat_lngs = zip(lats, lngs)\n",
    "\n",
    "# Identify nearest city for each lat, lng combination\n",
    "for lat_lng in lat_lngs:\n",
    "    city = citipy.nearest_city(lat_lng[0], lat_lng[1]).city_name\n",
    "    \n",
    "    # If the city is unique, then add it to a our cities list\n",
    "    if city not in cities:\n",
    "        cities.append(city)\n",
    "\n",
    "# Print the city count to confirm sufficient count\n",
    "len(cities)"
   ]
  },
  {
   "cell_type": "code",
   "execution_count": 3,
   "metadata": {},
   "outputs": [
    {
     "data": {
      "text/plain": [
       "['Saint George',\n",
       " 'Punta Arenas',\n",
       " 'Hobart',\n",
       " 'Padang',\n",
       " 'Kaitangata',\n",
       " 'Vaini',\n",
       " 'Galveston',\n",
       " 'Nikolskoye',\n",
       " 'Nkpor',\n",
       " 'Ushuaia',\n",
       " 'Torres',\n",
       " 'Acuna',\n",
       " 'Port Hardy',\n",
       " 'Jamestown',\n",
       " 'Norman Wells',\n",
       " 'Batticaloa',\n",
       " 'Nanortalik',\n",
       " 'Lampazos De Naranjo',\n",
       " 'Pauini',\n",
       " 'Bethel',\n",
       " 'Illoqqortoormiut',\n",
       " 'Vardo',\n",
       " 'Mehamn',\n",
       " 'Castro',\n",
       " 'Barrow',\n",
       " 'Tabas',\n",
       " 'Saint Anthony',\n",
       " 'Kerman',\n",
       " 'Atuona',\n",
       " 'Hukuntsi',\n",
       " 'Albany',\n",
       " 'Duku',\n",
       " 'Tuktoyaktuk',\n",
       " 'Gornopravdinsk',\n",
       " 'Cananea',\n",
       " 'Acarau',\n",
       " 'Mataura',\n",
       " 'Hofn',\n",
       " 'Ribeira Grande',\n",
       " 'Khani',\n",
       " 'Rikitea',\n",
       " 'Miranda',\n",
       " 'Koslan',\n",
       " 'Port Alfred',\n",
       " 'Manta',\n",
       " 'Dikson',\n",
       " 'Rafraf',\n",
       " 'Cape Town',\n",
       " 'Lephepe',\n",
       " 'Mazatlan',\n",
       " 'Ahipara',\n",
       " 'Chifeng',\n",
       " 'Taolanaro',\n",
       " 'De-Kastri',\n",
       " 'Kidodi',\n",
       " 'Saldanha',\n",
       " 'Busselton',\n",
       " 'Pevek',\n",
       " 'Kavieng',\n",
       " 'Mar Del Plata',\n",
       " 'Mys Shmidta',\n",
       " 'Clyde River',\n",
       " 'Ngukurr',\n",
       " 'Sept-Iles',\n",
       " 'Tahta',\n",
       " 'College',\n",
       " 'Torbay',\n",
       " 'Boa Vista',\n",
       " 'Matale',\n",
       " 'Cockburn Town',\n",
       " 'Cayenne',\n",
       " 'Natal',\n",
       " 'Malwan',\n",
       " 'Kapaa',\n",
       " 'Ormara',\n",
       " 'Belawan',\n",
       " 'Pangody',\n",
       " 'Carnarvon',\n",
       " 'Ilulissat',\n",
       " 'Tasiilaq',\n",
       " 'Beloha',\n",
       " 'Port Keats',\n",
       " 'Preobrazheniye',\n",
       " 'Omutninsk',\n",
       " 'Saint-Philippe',\n",
       " 'Rajapur',\n",
       " 'Khatanga',\n",
       " 'Mitsamiouli',\n",
       " 'Nurota',\n",
       " 'Upernavik',\n",
       " 'Tabiauea',\n",
       " 'Along',\n",
       " 'Butaritari',\n",
       " 'Mananara',\n",
       " 'Ca Mau',\n",
       " 'Bluff',\n",
       " 'Pechory',\n",
       " 'Yellowknife',\n",
       " 'Zeya',\n",
       " 'Paramonga',\n",
       " 'La Ronge',\n",
       " 'Avera',\n",
       " 'Te Anau',\n",
       " 'Avarua',\n",
       " 'Hermanus',\n",
       " 'Flin Flon',\n",
       " 'Tucumcari',\n",
       " 'Saltillo',\n",
       " 'Caravelas',\n",
       " 'Bolungarvik',\n",
       " 'Bargal',\n",
       " 'Longyearbyen',\n",
       " 'Kloulklubed',\n",
       " 'Bredasdorp',\n",
       " 'Puerto Ayora',\n",
       " 'Qaanaaq',\n",
       " 'New Norfolk',\n",
       " 'Lavrentiya',\n",
       " 'Hilo',\n",
       " 'Kodiak',\n",
       " 'Mount Isa',\n",
       " 'Ambilobe',\n",
       " 'Esperance',\n",
       " 'Longyan',\n",
       " 'Petropavlovsk-Kamchatskiy',\n",
       " 'Margate',\n",
       " 'Saskylakh',\n",
       " 'Ndele',\n",
       " 'Los Llanos De Aridane',\n",
       " 'Linqiong',\n",
       " 'Grand River South East',\n",
       " 'Umm Lajj',\n",
       " 'La Reforma',\n",
       " 'Coahuayana',\n",
       " 'Waddan',\n",
       " 'Catamarca',\n",
       " 'Altay',\n",
       " 'Komsomolskiy',\n",
       " 'Kaohsiung',\n",
       " 'Zuwarah',\n",
       " 'Chongwe',\n",
       " 'Cherskiy',\n",
       " 'Sicuani',\n",
       " 'Mahebourg',\n",
       " 'Mbaiki',\n",
       " 'Tautira',\n",
       " 'Biryusinsk',\n",
       " 'Havre-Saint-Pierre',\n",
       " 'Chapayevka',\n",
       " 'Svetlogorsk',\n",
       " 'Oster',\n",
       " 'Balkanabat',\n",
       " 'Hof',\n",
       " 'Beisfjord',\n",
       " 'Hovd',\n",
       " 'Kirkwall',\n",
       " 'Kalmunai',\n",
       " 'Cabo San Lucas',\n",
       " 'Mildura',\n",
       " 'Clonakilty',\n",
       " 'Muros',\n",
       " 'Arraial Do Cabo',\n",
       " 'Denpasar',\n",
       " 'Kavaratti',\n",
       " 'Bambous Virieux',\n",
       " 'Rawson',\n",
       " 'Tuatapere',\n",
       " 'San Patricio',\n",
       " 'Odweyne',\n",
       " 'Broome',\n",
       " 'Sao Filipe',\n",
       " 'Aklavik',\n",
       " 'Bonthe',\n",
       " 'Whitecourt',\n",
       " 'Hamilton',\n",
       " 'Ixtapa',\n",
       " 'Olinda',\n",
       " 'Bilma',\n",
       " 'Pomabamba',\n",
       " 'Sitka',\n",
       " 'Lufilufi',\n",
       " 'Zavitinsk',\n",
       " 'Shakawe',\n",
       " 'Qui Nhon',\n",
       " 'Trat',\n",
       " 'Sandy Bay',\n",
       " 'Fort-Shevchenko',\n",
       " 'Udachnyy',\n",
       " 'Umba',\n",
       " 'Strezhevoy',\n",
       " 'Vaitupu',\n",
       " 'Mouzakion',\n",
       " 'Ishigaki',\n",
       " 'Half Moon Bay',\n",
       " 'Bakel',\n",
       " 'Rincon',\n",
       " 'Kuloy',\n",
       " 'Harper',\n",
       " 'Fallon',\n",
       " 'Saint-Georges',\n",
       " 'Severo-Kurilsk',\n",
       " 'Lompoc',\n",
       " 'Alofi',\n",
       " 'Nizhneyansk',\n",
       " 'Mayumba',\n",
       " 'La Ligua',\n",
       " 'Victoria',\n",
       " 'Martapura',\n",
       " 'Ancud',\n",
       " 'Takoradi',\n",
       " 'Loreto',\n",
       " 'La Sarre',\n",
       " 'Poum',\n",
       " 'Beaupre',\n",
       " 'Bourail',\n",
       " 'Dmitriyevka',\n",
       " 'Bemidji',\n",
       " 'Provideniya',\n",
       " 'Minsk',\n",
       " 'Auki',\n",
       " 'Salamiyah',\n",
       " 'Karabuk',\n",
       " 'Warrnambool',\n",
       " 'Roma',\n",
       " 'Koge',\n",
       " 'Coihaique',\n",
       " 'Borinskoye',\n",
       " 'Lekoni',\n",
       " 'Yamada',\n",
       " 'Taganak',\n",
       " 'Saint-Pierre',\n",
       " 'Tiksi',\n",
       " 'Umzimvubu',\n",
       " 'Souillac',\n",
       " 'Sinop',\n",
       " 'Bongaree',\n",
       " 'Aksu',\n",
       " 'Coos Bay',\n",
       " 'Ostrovnoy',\n",
       " 'Muyezerskiy',\n",
       " 'Puerto Escondido',\n",
       " 'Laguna',\n",
       " 'Kahului',\n",
       " 'Gimbi',\n",
       " 'Almenara',\n",
       " 'Duvan',\n",
       " 'Sao Joao Da Barra',\n",
       " 'San Ramon De La Nueva Oran',\n",
       " 'Vestmannaeyjar',\n",
       " 'Fortuna',\n",
       " 'Airai',\n",
       " 'Nampula',\n",
       " 'Leningradskiy',\n",
       " 'Roald',\n",
       " 'East London',\n",
       " 'Deniliquin',\n",
       " 'Pecos',\n",
       " 'Galesong',\n",
       " 'Coquimbo',\n",
       " 'Barentsburg',\n",
       " 'Kiama',\n",
       " 'Quatre Cocos',\n",
       " 'Kruisfontein',\n",
       " 'Cidreira',\n",
       " 'San Cristobal',\n",
       " 'Mayo',\n",
       " 'Magadan',\n",
       " 'Lakhimpur',\n",
       " 'Zonguldak',\n",
       " 'Saleaula',\n",
       " 'Samusu',\n",
       " 'Quetigny',\n",
       " 'Najran',\n",
       " 'Bengkulu',\n",
       " 'La Plata',\n",
       " 'Chiang Mai',\n",
       " 'Egvekinot',\n",
       " 'Olafsvik',\n",
       " 'San Jose',\n",
       " 'Zaysan',\n",
       " 'Marsabit',\n",
       " 'Chatellerault',\n",
       " 'Banes',\n",
       " 'Humaita',\n",
       " 'Pervomayskoye',\n",
       " 'Cagayan De Tawi-Tawi',\n",
       " 'Chuy',\n",
       " 'Ulladulla',\n",
       " 'Moctezuma',\n",
       " 'Ust-Barguzin',\n",
       " 'Amderma',\n",
       " 'Bordighera',\n",
       " 'Conceicao Do Araguaia',\n",
       " 'Morros',\n",
       " 'Belyy Yar',\n",
       " 'Rodos',\n",
       " 'Mendi',\n",
       " 'Attawapiskat',\n",
       " 'Cookshire',\n",
       " 'Champerico',\n",
       " 'Icod De Los Vinos',\n",
       " 'Tommot',\n",
       " 'Kushima',\n",
       " 'Batagay-Alyta',\n",
       " 'Deputatskiy',\n",
       " 'Kuche',\n",
       " 'Gizo',\n",
       " 'Fairbanks',\n",
       " 'Naze',\n",
       " 'Constitucion',\n",
       " 'Bac Lieu',\n",
       " 'Nobres',\n",
       " 'Paiporta',\n",
       " 'Terrace Bay',\n",
       " 'Siilinjarvi',\n",
       " 'Turukhansk',\n",
       " 'Hasaki',\n",
       " 'Bonavista',\n",
       " 'Zhicheng',\n",
       " 'Asau',\n",
       " 'Aregua',\n",
       " 'Grand-Lahou',\n",
       " 'Darhan',\n",
       " 'Touros',\n",
       " 'Belushya Guba',\n",
       " 'Sioux Lookout',\n",
       " 'Hithadhoo',\n",
       " 'Shieli',\n",
       " 'Mocambique',\n",
       " 'Salalah',\n",
       " 'Chokurdakh',\n",
       " 'Sorong',\n",
       " 'Faanui',\n",
       " 'Maroua',\n",
       " 'Houma',\n",
       " 'Fukue',\n",
       " 'Kang',\n",
       " 'Port Elizabeth',\n",
       " 'Namibe',\n",
       " 'Isangel',\n",
       " 'Coutances',\n",
       " 'Chester',\n",
       " 'Yankton',\n",
       " 'Nishihara',\n",
       " 'San Policarpo',\n",
       " 'Xinyu',\n",
       " 'Plettenberg Bay',\n",
       " 'Tullamore',\n",
       " 'Nouna',\n",
       " 'Kongolo',\n",
       " 'Vila Velha',\n",
       " 'Jumla',\n",
       " 'Sumbawa',\n",
       " 'Ayagoz',\n",
       " 'Sampit',\n",
       " 'Puerto Penasco',\n",
       " 'Sambava',\n",
       " 'Natchitoches',\n",
       " 'Kawalu',\n",
       " 'Pipar',\n",
       " 'Mahon',\n",
       " 'Maniitsoq',\n",
       " 'Marcona',\n",
       " 'Pacific Grove',\n",
       " 'Narrabri',\n",
       " 'Orocue',\n",
       " 'Klaksvik',\n",
       " 'Thunder Bay',\n",
       " 'Talcahuano',\n",
       " 'Tilichiki',\n",
       " 'Burica',\n",
       " 'Verkhnevilyuysk',\n",
       " 'Shelburne',\n",
       " 'Sinnamary',\n",
       " 'Penzance',\n",
       " 'Sentyabrskiy',\n",
       " 'Huarmey',\n",
       " 'Mangai',\n",
       " 'Rocha',\n",
       " 'Pisco',\n",
       " 'Codrington',\n",
       " 'Crixas',\n",
       " 'Siocon',\n",
       " 'Adrar',\n",
       " 'Thilogne',\n",
       " 'Mana',\n",
       " 'Taburi',\n",
       " 'Chaochou',\n",
       " 'Sharan',\n",
       " 'Jiroft',\n",
       " 'Hualmay',\n",
       " 'Sabha',\n",
       " 'Oktyabrskiy',\n",
       " 'Mackay',\n",
       " 'Tessalit',\n",
       " 'Bayji',\n",
       " 'Jiddah',\n",
       " 'Leh',\n",
       " 'Georgetown',\n",
       " 'Orito',\n",
       " 'Sterling',\n",
       " 'Sao Miguel Do Araguaia',\n",
       " 'Beringovskiy',\n",
       " 'Luderitz',\n",
       " 'Emerald',\n",
       " 'Luanda',\n",
       " 'Coffs Harbour',\n",
       " 'Kalianget',\n",
       " 'Katsuura',\n",
       " 'Waiouru',\n",
       " 'Haines Junction',\n",
       " 'Bumba',\n",
       " 'Panguna',\n",
       " 'Beyneu',\n",
       " 'Ponnani',\n",
       " 'Lagoa',\n",
       " 'Flinders',\n",
       " 'Alyangula',\n",
       " 'Ardmore',\n",
       " 'Myitkyina',\n",
       " 'Bodden Town',\n",
       " 'Srednekolymsk',\n",
       " 'Ust-Kamchatsk',\n",
       " 'Litomysl',\n",
       " 'Gamba',\n",
       " 'Honiara',\n",
       " 'Lebu',\n",
       " 'Burnie',\n",
       " 'Bairiki',\n",
       " 'Huittinen',\n",
       " 'Abeokuta',\n",
       " 'Hirara',\n",
       " 'Dwarka',\n",
       " 'Hervey Bay',\n",
       " 'Port Blair',\n",
       " 'Nisporeni',\n",
       " 'Gorontalo',\n",
       " 'Saint-Augustin',\n",
       " 'Piracuruca',\n",
       " 'Pingshan',\n",
       " 'Kobojango',\n",
       " 'Peterhead',\n",
       " 'Comodoro Rivadavia',\n",
       " 'Taoudenni',\n",
       " 'Marawi',\n",
       " 'Hornepayne',\n",
       " 'Abbeville',\n",
       " 'Trnava',\n",
       " 'Astana',\n",
       " 'Qaqortoq',\n",
       " 'Korla',\n",
       " 'Dumra',\n",
       " 'Chicama',\n",
       " 'Yichun',\n",
       " 'Wanning',\n",
       " 'Bereda',\n",
       " 'Dingle',\n",
       " 'Komarikhinskiy',\n",
       " 'Hays',\n",
       " 'Anaco',\n",
       " 'Pires Do Rio',\n",
       " 'Mizdah',\n",
       " 'Toulepleu',\n",
       " 'Opuwo',\n",
       " 'Tsagan Aman',\n",
       " 'Azangaro',\n",
       " 'Gorom-Gorom',\n",
       " 'Zhigansk',\n",
       " 'Verkhoyansk',\n",
       " 'Bur Gabo',\n",
       " 'Ambon',\n",
       " 'Lardos',\n",
       " 'Mount Gambier',\n",
       " 'Zapolyarnyy',\n",
       " 'Erzin',\n",
       " 'Barcelos',\n",
       " 'Acapulco',\n",
       " 'Hami',\n",
       " 'Floro',\n",
       " 'Baruun-Urt',\n",
       " 'Merrill',\n",
       " 'Desaguadero',\n",
       " 'Eyl',\n",
       " 'Brooks',\n",
       " 'Bani Walid',\n",
       " 'Cockburn Harbour',\n",
       " 'Bagli',\n",
       " 'Aztec',\n",
       " 'Hay River',\n",
       " 'Bitung',\n",
       " 'Igra',\n",
       " 'Todos Santos',\n",
       " 'Campbellton',\n",
       " 'One Hundred Mile House',\n",
       " 'Ponta Do Sol',\n",
       " 'Lasa',\n",
       " 'Anadyr',\n",
       " 'Tsihombe',\n",
       " 'Tarko-Sale',\n",
       " 'Skorodnoye',\n",
       " 'Sulangan',\n",
       " 'Aleppo',\n",
       " 'Arlit',\n",
       " 'Marystown',\n",
       " 'Tecoanapa',\n",
       " 'Alzamay',\n",
       " 'Biltine',\n",
       " 'Texarkana',\n",
       " 'Damaturu',\n",
       " 'Atambua',\n",
       " 'Timra',\n",
       " 'Neiafu',\n",
       " 'Iralaya',\n",
       " 'Kamenskoye',\n",
       " 'Magaria',\n",
       " 'Yayva',\n",
       " 'Rudnichnyy',\n",
       " 'Geraldton',\n",
       " 'Grand Centre',\n",
       " 'Russellville',\n",
       " 'Port Hawkesbury',\n",
       " 'Port Moresby',\n",
       " 'Pemberton',\n",
       " 'Mufulira',\n",
       " 'Lorengau',\n",
       " 'Pachino',\n",
       " 'Yar-Sale',\n",
       " 'Port Lincoln',\n",
       " 'Sungaipenuh',\n",
       " 'Jalu',\n",
       " 'Havelock',\n",
       " 'Prince Rupert',\n",
       " 'Alpena',\n",
       " 'Synya',\n",
       " 'Naples',\n",
       " 'Suleja',\n",
       " 'Buchanan',\n",
       " 'San Quintin',\n",
       " 'Abu Samrah',\n",
       " 'Heihe',\n",
       " 'Kaoma',\n",
       " 'Manokwari',\n",
       " 'Hambantota',\n",
       " 'Oussouye',\n",
       " 'Obo',\n",
       " 'Caiaponia',\n",
       " 'Chatrapur',\n",
       " 'Pangnirtung',\n",
       " 'Barra Do Garcas',\n",
       " 'Zhigalovo',\n",
       " 'Ciudad Guayana',\n",
       " 'Husavik',\n",
       " 'Ploemeur',\n",
       " 'Son La',\n",
       " 'Kalanchak',\n",
       " 'Beira',\n",
       " 'Joao Monlevade',\n",
       " 'Mindelo',\n",
       " 'Chorley',\n",
       " 'Fort Nelson',\n",
       " 'Baft',\n",
       " 'Bom Jesus',\n",
       " 'Taltal',\n",
       " 'Kilindoni',\n",
       " 'Biak',\n",
       " 'Verkhnyaya Inta',\n",
       " 'Belaya Gora',\n",
       " 'Thompson',\n",
       " 'Riohacha',\n",
       " 'Melilla',\n",
       " 'Tokoroa',\n",
       " 'Karratha',\n",
       " 'Anchorage',\n",
       " 'Bathsheba',\n",
       " 'Kismayo',\n",
       " 'Gidam',\n",
       " 'Casablanca',\n",
       " 'Shubarshi',\n",
       " 'Aykhal',\n",
       " 'Nemuro',\n",
       " 'Angoche',\n",
       " 'Jevargi',\n",
       " 'Kargil',\n",
       " 'Kuito',\n",
       " 'Cedar City',\n",
       " 'Socorro',\n",
       " 'Bogorodskoye',\n",
       " 'Monrovia',\n",
       " 'Talnakh',\n",
       " 'Yining',\n",
       " 'Bundaberg',\n",
       " 'Blythe',\n",
       " 'Marzuq',\n",
       " 'Wajima',\n",
       " 'Oistins',\n",
       " 'Ostuacan',\n",
       " 'Carhuaz',\n",
       " 'Cheuskiny',\n",
       " 'Chibuto',\n",
       " 'Vanavara',\n",
       " 'Sembakung',\n",
       " 'Bria']"
      ]
     },
     "execution_count": 3,
     "metadata": {},
     "output_type": "execute_result"
    }
   ],
   "source": [
    "cities = [city.title() for city in cities]\n",
    "cities"
   ]
  },
  {
   "cell_type": "markdown",
   "metadata": {},
   "source": [
    "### Perform API Calls\n",
    "* Perform a weather check on each city using a series of successive API calls.\n",
    "* Include a print log of each city as it'sbeing processed (with the city number and city name).\n"
   ]
  },
  {
   "cell_type": "code",
   "execution_count": 4,
   "metadata": {},
   "outputs": [
    {
     "name": "stdout",
     "output_type": "stream",
     "text": [
      "{'base': 'stations',\n",
      " 'clouds': {'all': 100},\n",
      " 'cod': 200,\n",
      " 'coord': {'lat': -23.12, 'lon': -134.97},\n",
      " 'dt': 1588526533,\n",
      " 'id': 4030556,\n",
      " 'main': {'feels_like': 72.68,\n",
      "          'grnd_level': 1016,\n",
      "          'humidity': 76,\n",
      "          'pressure': 1019,\n",
      "          'sea_level': 1019,\n",
      "          'temp': 74.97,\n",
      "          'temp_max': 74.97,\n",
      "          'temp_min': 74.97},\n",
      " 'name': 'Rikitea',\n",
      " 'rain': {'1h': 0.12},\n",
      " 'sys': {'country': 'PF', 'sunrise': 1588519250, 'sunset': 1588559546},\n",
      " 'timezone': -32400,\n",
      " 'weather': [{'description': 'light rain',\n",
      "              'icon': '10d',\n",
      "              'id': 500,\n",
      "              'main': 'Rain'}],\n",
      " 'wind': {'deg': 146, 'speed': 14.92}}\n"
     ]
    }
   ],
   "source": [
    "#Create query url for any city\n",
    "url = \"http://api.openweathermap.org/data/2.5/weather?\"\n",
    "units = \"imperial\"\n",
    "city= \"Rikitea\"\n",
    "query_url = f\"{url}appid={weather_api_key}&q={city}&units={units}\"\n",
    "\n",
    "#Get data\n",
    "response = requests.get(query_url).json()\n",
    "pprint(response)\n"
   ]
  },
  {
   "cell_type": "code",
   "execution_count": 5,
   "metadata": {},
   "outputs": [
    {
     "data": {
      "text/plain": [
       "dict_keys(['coord', 'weather', 'base', 'main', 'wind', 'rain', 'clouds', 'dt', 'sys', 'timezone', 'id', 'name', 'cod'])"
      ]
     },
     "execution_count": 5,
     "metadata": {},
     "output_type": "execute_result"
    }
   ],
   "source": [
    "response.keys()"
   ]
  },
  {
   "cell_type": "code",
   "execution_count": 25,
   "metadata": {
    "scrolled": true
   },
   "outputs": [],
   "source": [
    "#Loop through cities\n",
    "locID = []\n",
    "maxtemp =[]\n",
    "humid=[]\n",
    "clouds=[]\n",
    "windspeed=[]\n",
    "country=[]\n",
    "date=[]\n",
    "lat=[]\n",
    "lng=[]\n",
    "testcities = [\"Dallas\", \"Austin\", \"New York\", \"Belushya Guba\", \"Seattle\"]\n",
    "for city in cities:\n",
    "    query_url = f\"{url}appid={weather_api_key}&q={city}&units={units}\"\n",
    "    response = requests.get(query_url).json()\n",
    "    try:\n",
    "        locID.append(response['id'])\n",
    "    except KeyError:\n",
    "        locID.append('NaN')\n",
    "    try:\n",
    "        maxtemp.append(response['main']['temp_max'])\n",
    "    except KeyError:\n",
    "        maxtemp.append('NaN')\n",
    "    try:\n",
    "        humid.append(response['main']['humidity'])\n",
    "    except KeyError:\n",
    "        humid.append('NaN')\n",
    "    try:\n",
    "        clouds.append(response['clouds']['all'])\n",
    "    except KeyError:\n",
    "        clouds.append('NaN')\n",
    "    try:\n",
    "        windspeed.append(response['wind']['speed'])\n",
    "    except KeyError:\n",
    "        windspeed.append('NaN')\n",
    "    try:\n",
    "        country.append(response['sys']['country'])\n",
    "    except KeyError:\n",
    "        country.append('NaN')\n",
    "    try:\n",
    "        date.append(response['dt'])\n",
    "    except KeyError:\n",
    "        date.append('NaN')\n",
    "    try:\n",
    "        lat.append(response['coord']['lat'])\n",
    "    except KeyError:\n",
    "        lat.append('NaN')       \n",
    "    try:\n",
    "        lng.append(response['coord']['lon'])\n",
    "    except KeyError:\n",
    "        lng.append('NaN')  \n",
    "    time.sleep(1)\n"
   ]
  },
  {
   "cell_type": "markdown",
   "metadata": {},
   "source": [
    "### Convert Raw Data to DataFrame\n",
    "* Export the city data into a .csv.\n",
    "* Display the DataFrame"
   ]
  },
  {
   "cell_type": "code",
   "execution_count": 26,
   "metadata": {},
   "outputs": [
    {
     "data": {
      "text/html": [
       "<div>\n",
       "<style scoped>\n",
       "    .dataframe tbody tr th:only-of-type {\n",
       "        vertical-align: middle;\n",
       "    }\n",
       "\n",
       "    .dataframe tbody tr th {\n",
       "        vertical-align: top;\n",
       "    }\n",
       "\n",
       "    .dataframe thead th {\n",
       "        text-align: right;\n",
       "    }\n",
       "</style>\n",
       "<table border=\"1\" class=\"dataframe\">\n",
       "  <thead>\n",
       "    <tr style=\"text-align: right;\">\n",
       "      <th></th>\n",
       "      <th>City ID</th>\n",
       "      <th>City</th>\n",
       "      <th>Country</th>\n",
       "      <th>Lat</th>\n",
       "      <th>Lng</th>\n",
       "      <th>Max Temp</th>\n",
       "      <th>Humidity</th>\n",
       "      <th>Cloudiness</th>\n",
       "      <th>Wind Speed</th>\n",
       "      <th>Date</th>\n",
       "    </tr>\n",
       "  </thead>\n",
       "  <tbody>\n",
       "    <tr>\n",
       "      <td>0</td>\n",
       "      <td>5546220</td>\n",
       "      <td>Saint George</td>\n",
       "      <td>US</td>\n",
       "      <td>37.1</td>\n",
       "      <td>-113.58</td>\n",
       "      <td>82</td>\n",
       "      <td>16</td>\n",
       "      <td>1</td>\n",
       "      <td>6.93</td>\n",
       "      <td>1588529416</td>\n",
       "    </tr>\n",
       "    <tr>\n",
       "      <td>1</td>\n",
       "      <td>3874787</td>\n",
       "      <td>Punta Arenas</td>\n",
       "      <td>CL</td>\n",
       "      <td>-53.15</td>\n",
       "      <td>-70.92</td>\n",
       "      <td>48.2</td>\n",
       "      <td>81</td>\n",
       "      <td>51</td>\n",
       "      <td>13.87</td>\n",
       "      <td>1588529497</td>\n",
       "    </tr>\n",
       "    <tr>\n",
       "      <td>2</td>\n",
       "      <td>2163355</td>\n",
       "      <td>Hobart</td>\n",
       "      <td>AU</td>\n",
       "      <td>-42.88</td>\n",
       "      <td>147.33</td>\n",
       "      <td>52</td>\n",
       "      <td>76</td>\n",
       "      <td>40</td>\n",
       "      <td>9.17</td>\n",
       "      <td>1588529362</td>\n",
       "    </tr>\n",
       "    <tr>\n",
       "      <td>3</td>\n",
       "      <td>1633419</td>\n",
       "      <td>Padang</td>\n",
       "      <td>ID</td>\n",
       "      <td>-0.95</td>\n",
       "      <td>100.35</td>\n",
       "      <td>79.7</td>\n",
       "      <td>76</td>\n",
       "      <td>99</td>\n",
       "      <td>4.52</td>\n",
       "      <td>1588529590</td>\n",
       "    </tr>\n",
       "    <tr>\n",
       "      <td>4</td>\n",
       "      <td>2208248</td>\n",
       "      <td>Kaitangata</td>\n",
       "      <td>NZ</td>\n",
       "      <td>-46.28</td>\n",
       "      <td>169.85</td>\n",
       "      <td>57</td>\n",
       "      <td>54</td>\n",
       "      <td>100</td>\n",
       "      <td>6.44</td>\n",
       "      <td>1588529591</td>\n",
       "    </tr>\n",
       "  </tbody>\n",
       "</table>\n",
       "</div>"
      ],
      "text/plain": [
       "   City ID          City Country    Lat     Lng Max Temp Humidity Cloudiness  \\\n",
       "0  5546220  Saint George      US   37.1 -113.58       82       16          1   \n",
       "1  3874787  Punta Arenas      CL -53.15  -70.92     48.2       81         51   \n",
       "2  2163355        Hobart      AU -42.88  147.33       52       76         40   \n",
       "3  1633419        Padang      ID  -0.95  100.35     79.7       76         99   \n",
       "4  2208248    Kaitangata      NZ -46.28  169.85       57       54        100   \n",
       "\n",
       "  Wind Speed        Date  \n",
       "0       6.93  1588529416  \n",
       "1      13.87  1588529497  \n",
       "2       9.17  1588529362  \n",
       "3       4.52  1588529590  \n",
       "4       6.44  1588529591  "
      ]
     },
     "execution_count": 26,
     "metadata": {},
     "output_type": "execute_result"
    }
   ],
   "source": [
    "#create df\n",
    "city_df = pd.DataFrame(list(zip(locID, cities, country, lat, lng, maxtemp, humid, clouds, windspeed, date)), \n",
    "               columns =['City ID', 'City', 'Country', 'Lat', 'Lng', 'Max Temp', 'Humidity', 'Cloudiness', 'Wind Speed', 'Date'])\n",
    "city_df.head()"
   ]
  },
  {
   "cell_type": "code",
   "execution_count": 73,
   "metadata": {},
   "outputs": [
    {
     "data": {
      "text/plain": [
       "City ID        object\n",
       "City           object\n",
       "Country        object\n",
       "Lat           float64\n",
       "Lng           float64\n",
       "Max Temp      float64\n",
       "Humidity      float64\n",
       "Cloudiness    float64\n",
       "Wind Speed    float64\n",
       "Date          float64\n",
       "dtype: object"
      ]
     },
     "execution_count": 73,
     "metadata": {},
     "output_type": "execute_result"
    }
   ],
   "source": [
    "#convert objects to floats\n",
    "city_df['Lat'] = clean_city_df['Lat'].astype(float)\n",
    "city_df['Lng'] = clean_city_df['Lng'].astype(float)\n",
    "city_df['Max Temp'] = clean_city_df['Max Temp'].astype(float)\n",
    "city_df['Humidity'] = clean_city_df['Humidity'].astype(float)\n",
    "city_df['Cloudiness'] = clean_city_df['Cloudiness'].astype(float)\n",
    "city_df['Wind Speed'] = clean_city_df['Wind Speed'].astype(float)\n",
    "city_df['Date'] = clean_city_df['Date'].astype(float)\n",
    "city_df.dtypes\n",
    "\n",
    "\n"
   ]
  },
  {
   "cell_type": "code",
   "execution_count": 74,
   "metadata": {},
   "outputs": [
    {
     "data": {
      "text/plain": [
       "558"
      ]
     },
     "execution_count": 74,
     "metadata": {},
     "output_type": "execute_result"
    }
   ],
   "source": [
    "#delete rows with NaN values\n",
    "clean_city_df = city_df.dropna()\n",
    "len(clean_city_df)"
   ]
  },
  {
   "cell_type": "code",
   "execution_count": 75,
   "metadata": {},
   "outputs": [
    {
     "data": {
      "text/html": [
       "<div>\n",
       "<style scoped>\n",
       "    .dataframe tbody tr th:only-of-type {\n",
       "        vertical-align: middle;\n",
       "    }\n",
       "\n",
       "    .dataframe tbody tr th {\n",
       "        vertical-align: top;\n",
       "    }\n",
       "\n",
       "    .dataframe thead th {\n",
       "        text-align: right;\n",
       "    }\n",
       "</style>\n",
       "<table border=\"1\" class=\"dataframe\">\n",
       "  <thead>\n",
       "    <tr style=\"text-align: right;\">\n",
       "      <th></th>\n",
       "      <th>City ID</th>\n",
       "      <th>City</th>\n",
       "      <th>Country</th>\n",
       "      <th>Lat</th>\n",
       "      <th>Lng</th>\n",
       "      <th>Max Temp</th>\n",
       "      <th>Humidity</th>\n",
       "      <th>Cloudiness</th>\n",
       "      <th>Wind Speed</th>\n",
       "      <th>Date</th>\n",
       "    </tr>\n",
       "  </thead>\n",
       "  <tbody>\n",
       "    <tr>\n",
       "      <td>591</td>\n",
       "      <td>5329649</td>\n",
       "      <td>Blythe</td>\n",
       "      <td>US</td>\n",
       "      <td>33.61</td>\n",
       "      <td>-114.60</td>\n",
       "      <td>88.00</td>\n",
       "      <td>19.0</td>\n",
       "      <td>1.0</td>\n",
       "      <td>3.36</td>\n",
       "      <td>1.588530e+09</td>\n",
       "    </tr>\n",
       "    <tr>\n",
       "      <td>592</td>\n",
       "      <td>72181</td>\n",
       "      <td>Marzuq</td>\n",
       "      <td>YE</td>\n",
       "      <td>14.40</td>\n",
       "      <td>46.47</td>\n",
       "      <td>81.61</td>\n",
       "      <td>39.0</td>\n",
       "      <td>61.0</td>\n",
       "      <td>8.12</td>\n",
       "      <td>1.588530e+09</td>\n",
       "    </tr>\n",
       "    <tr>\n",
       "      <td>593</td>\n",
       "      <td>1848976</td>\n",
       "      <td>Wajima</td>\n",
       "      <td>JP</td>\n",
       "      <td>37.40</td>\n",
       "      <td>136.90</td>\n",
       "      <td>62.01</td>\n",
       "      <td>67.0</td>\n",
       "      <td>100.0</td>\n",
       "      <td>7.49</td>\n",
       "      <td>1.588530e+09</td>\n",
       "    </tr>\n",
       "    <tr>\n",
       "      <td>594</td>\n",
       "      <td>3373652</td>\n",
       "      <td>Oistins</td>\n",
       "      <td>BB</td>\n",
       "      <td>13.07</td>\n",
       "      <td>-59.53</td>\n",
       "      <td>84.20</td>\n",
       "      <td>70.0</td>\n",
       "      <td>75.0</td>\n",
       "      <td>21.92</td>\n",
       "      <td>1.588530e+09</td>\n",
       "    </tr>\n",
       "    <tr>\n",
       "      <td>595</td>\n",
       "      <td>3522293</td>\n",
       "      <td>Ostuacan</td>\n",
       "      <td>MX</td>\n",
       "      <td>17.42</td>\n",
       "      <td>-93.30</td>\n",
       "      <td>84.72</td>\n",
       "      <td>58.0</td>\n",
       "      <td>60.0</td>\n",
       "      <td>3.74</td>\n",
       "      <td>1.588530e+09</td>\n",
       "    </tr>\n",
       "    <tr>\n",
       "      <td>596</td>\n",
       "      <td>3698814</td>\n",
       "      <td>Carhuaz</td>\n",
       "      <td>PE</td>\n",
       "      <td>-9.28</td>\n",
       "      <td>-77.64</td>\n",
       "      <td>68.11</td>\n",
       "      <td>21.0</td>\n",
       "      <td>51.0</td>\n",
       "      <td>3.91</td>\n",
       "      <td>1.588530e+09</td>\n",
       "    </tr>\n",
       "    <tr>\n",
       "      <td>598</td>\n",
       "      <td>1049861</td>\n",
       "      <td>Chibuto</td>\n",
       "      <td>MZ</td>\n",
       "      <td>-24.69</td>\n",
       "      <td>33.53</td>\n",
       "      <td>69.94</td>\n",
       "      <td>75.0</td>\n",
       "      <td>0.0</td>\n",
       "      <td>8.10</td>\n",
       "      <td>1.588530e+09</td>\n",
       "    </tr>\n",
       "    <tr>\n",
       "      <td>599</td>\n",
       "      <td>2013727</td>\n",
       "      <td>Vanavara</td>\n",
       "      <td>RU</td>\n",
       "      <td>60.34</td>\n",
       "      <td>102.28</td>\n",
       "      <td>34.83</td>\n",
       "      <td>80.0</td>\n",
       "      <td>10.0</td>\n",
       "      <td>2.55</td>\n",
       "      <td>1.588530e+09</td>\n",
       "    </tr>\n",
       "    <tr>\n",
       "      <td>600</td>\n",
       "      <td>1627877</td>\n",
       "      <td>Sembakung</td>\n",
       "      <td>ID</td>\n",
       "      <td>3.82</td>\n",
       "      <td>117.25</td>\n",
       "      <td>75.63</td>\n",
       "      <td>97.0</td>\n",
       "      <td>100.0</td>\n",
       "      <td>2.06</td>\n",
       "      <td>1.588530e+09</td>\n",
       "    </tr>\n",
       "    <tr>\n",
       "      <td>601</td>\n",
       "      <td>239899</td>\n",
       "      <td>Bria</td>\n",
       "      <td>CF</td>\n",
       "      <td>6.54</td>\n",
       "      <td>21.99</td>\n",
       "      <td>82.85</td>\n",
       "      <td>37.0</td>\n",
       "      <td>31.0</td>\n",
       "      <td>2.35</td>\n",
       "      <td>1.588530e+09</td>\n",
       "    </tr>\n",
       "  </tbody>\n",
       "</table>\n",
       "</div>"
      ],
      "text/plain": [
       "     City ID       City Country    Lat     Lng  Max Temp  Humidity  \\\n",
       "591  5329649     Blythe      US  33.61 -114.60     88.00      19.0   \n",
       "592    72181     Marzuq      YE  14.40   46.47     81.61      39.0   \n",
       "593  1848976     Wajima      JP  37.40  136.90     62.01      67.0   \n",
       "594  3373652    Oistins      BB  13.07  -59.53     84.20      70.0   \n",
       "595  3522293   Ostuacan      MX  17.42  -93.30     84.72      58.0   \n",
       "596  3698814    Carhuaz      PE  -9.28  -77.64     68.11      21.0   \n",
       "598  1049861    Chibuto      MZ -24.69   33.53     69.94      75.0   \n",
       "599  2013727   Vanavara      RU  60.34  102.28     34.83      80.0   \n",
       "600  1627877  Sembakung      ID   3.82  117.25     75.63      97.0   \n",
       "601   239899       Bria      CF   6.54   21.99     82.85      37.0   \n",
       "\n",
       "     Cloudiness  Wind Speed          Date  \n",
       "591         1.0        3.36  1.588530e+09  \n",
       "592        61.0        8.12  1.588530e+09  \n",
       "593       100.0        7.49  1.588530e+09  \n",
       "594        75.0       21.92  1.588530e+09  \n",
       "595        60.0        3.74  1.588530e+09  \n",
       "596        51.0        3.91  1.588530e+09  \n",
       "598         0.0        8.10  1.588530e+09  \n",
       "599        10.0        2.55  1.588530e+09  \n",
       "600       100.0        2.06  1.588530e+09  \n",
       "601        31.0        2.35  1.588530e+09  "
      ]
     },
     "execution_count": 75,
     "metadata": {},
     "output_type": "execute_result"
    }
   ],
   "source": [
    "clean_city_df.tail(10)"
   ]
  },
  {
   "cell_type": "code",
   "execution_count": 76,
   "metadata": {},
   "outputs": [],
   "source": [
    "#write to csv\n",
    "clean_city_df.to_csv(\"CityWeather.csv\", index=False)"
   ]
  },
  {
   "cell_type": "code",
   "execution_count": 77,
   "metadata": {},
   "outputs": [
    {
     "data": {
      "text/html": [
       "<div>\n",
       "<style scoped>\n",
       "    .dataframe tbody tr th:only-of-type {\n",
       "        vertical-align: middle;\n",
       "    }\n",
       "\n",
       "    .dataframe tbody tr th {\n",
       "        vertical-align: top;\n",
       "    }\n",
       "\n",
       "    .dataframe thead th {\n",
       "        text-align: right;\n",
       "    }\n",
       "</style>\n",
       "<table border=\"1\" class=\"dataframe\">\n",
       "  <thead>\n",
       "    <tr style=\"text-align: right;\">\n",
       "      <th></th>\n",
       "      <th>City ID</th>\n",
       "      <th>City</th>\n",
       "      <th>Country</th>\n",
       "      <th>Lat</th>\n",
       "      <th>Lng</th>\n",
       "      <th>Max Temp</th>\n",
       "      <th>Humidity</th>\n",
       "      <th>Cloudiness</th>\n",
       "      <th>Wind Speed</th>\n",
       "      <th>Date</th>\n",
       "    </tr>\n",
       "  </thead>\n",
       "  <tbody>\n",
       "    <tr>\n",
       "      <td>0</td>\n",
       "      <td>5546220</td>\n",
       "      <td>Saint George</td>\n",
       "      <td>US</td>\n",
       "      <td>37.10</td>\n",
       "      <td>-113.58</td>\n",
       "      <td>82.0</td>\n",
       "      <td>16.0</td>\n",
       "      <td>1.0</td>\n",
       "      <td>6.93</td>\n",
       "      <td>1.588529e+09</td>\n",
       "    </tr>\n",
       "    <tr>\n",
       "      <td>1</td>\n",
       "      <td>3874787</td>\n",
       "      <td>Punta Arenas</td>\n",
       "      <td>CL</td>\n",
       "      <td>-53.15</td>\n",
       "      <td>-70.92</td>\n",
       "      <td>48.2</td>\n",
       "      <td>81.0</td>\n",
       "      <td>51.0</td>\n",
       "      <td>13.87</td>\n",
       "      <td>1.588529e+09</td>\n",
       "    </tr>\n",
       "    <tr>\n",
       "      <td>2</td>\n",
       "      <td>2163355</td>\n",
       "      <td>Hobart</td>\n",
       "      <td>AU</td>\n",
       "      <td>-42.88</td>\n",
       "      <td>147.33</td>\n",
       "      <td>52.0</td>\n",
       "      <td>76.0</td>\n",
       "      <td>40.0</td>\n",
       "      <td>9.17</td>\n",
       "      <td>1.588529e+09</td>\n",
       "    </tr>\n",
       "    <tr>\n",
       "      <td>3</td>\n",
       "      <td>1633419</td>\n",
       "      <td>Padang</td>\n",
       "      <td>ID</td>\n",
       "      <td>-0.95</td>\n",
       "      <td>100.35</td>\n",
       "      <td>79.7</td>\n",
       "      <td>76.0</td>\n",
       "      <td>99.0</td>\n",
       "      <td>4.52</td>\n",
       "      <td>1.588530e+09</td>\n",
       "    </tr>\n",
       "    <tr>\n",
       "      <td>4</td>\n",
       "      <td>2208248</td>\n",
       "      <td>Kaitangata</td>\n",
       "      <td>NZ</td>\n",
       "      <td>-46.28</td>\n",
       "      <td>169.85</td>\n",
       "      <td>57.0</td>\n",
       "      <td>54.0</td>\n",
       "      <td>100.0</td>\n",
       "      <td>6.44</td>\n",
       "      <td>1.588530e+09</td>\n",
       "    </tr>\n",
       "  </tbody>\n",
       "</table>\n",
       "</div>"
      ],
      "text/plain": [
       "   City ID          City Country    Lat     Lng  Max Temp  Humidity  \\\n",
       "0  5546220  Saint George      US  37.10 -113.58      82.0      16.0   \n",
       "1  3874787  Punta Arenas      CL -53.15  -70.92      48.2      81.0   \n",
       "2  2163355        Hobart      AU -42.88  147.33      52.0      76.0   \n",
       "3  1633419        Padang      ID  -0.95  100.35      79.7      76.0   \n",
       "4  2208248    Kaitangata      NZ -46.28  169.85      57.0      54.0   \n",
       "\n",
       "   Cloudiness  Wind Speed          Date  \n",
       "0         1.0        6.93  1.588529e+09  \n",
       "1        51.0       13.87  1.588529e+09  \n",
       "2        40.0        9.17  1.588529e+09  \n",
       "3        99.0        4.52  1.588530e+09  \n",
       "4       100.0        6.44  1.588530e+09  "
      ]
     },
     "execution_count": 77,
     "metadata": {},
     "output_type": "execute_result"
    }
   ],
   "source": [
    "#read csv\n",
    "cityweather_df = pd.read_csv(\"CityWeather.csv\")\n",
    "cityweather_df.head()"
   ]
  },
  {
   "cell_type": "markdown",
   "metadata": {},
   "source": [
    "## Inspect the data and remove the cities where the humidity > 100%.\n",
    "----\n",
    "Skip this step if there are no cities that have humidity > 100%. "
   ]
  },
  {
   "cell_type": "code",
   "execution_count": 78,
   "metadata": {},
   "outputs": [
    {
     "name": "stdout",
     "output_type": "stream",
     "text": [
      "0 cities were too humid and removed.\n"
     ]
    }
   ],
   "source": [
    "#  Get the indices of cities that have humidity over 100%.\n",
    "mask = cityweather_df.Humidity <=100\n",
    "humid_df = cityweather_df.loc[mask].reset_index(drop=True)\n",
    "print(f\"{len(cityweather_df)-len(humid_df)} cities were too humid and removed.\")"
   ]
  },
  {
   "cell_type": "code",
   "execution_count": 79,
   "metadata": {},
   "outputs": [
    {
     "data": {
      "text/html": [
       "<div>\n",
       "<style scoped>\n",
       "    .dataframe tbody tr th:only-of-type {\n",
       "        vertical-align: middle;\n",
       "    }\n",
       "\n",
       "    .dataframe tbody tr th {\n",
       "        vertical-align: top;\n",
       "    }\n",
       "\n",
       "    .dataframe thead th {\n",
       "        text-align: right;\n",
       "    }\n",
       "</style>\n",
       "<table border=\"1\" class=\"dataframe\">\n",
       "  <thead>\n",
       "    <tr style=\"text-align: right;\">\n",
       "      <th></th>\n",
       "      <th>City ID</th>\n",
       "      <th>City</th>\n",
       "      <th>Country</th>\n",
       "      <th>Lat</th>\n",
       "      <th>Lng</th>\n",
       "      <th>Max Temp</th>\n",
       "      <th>Humidity</th>\n",
       "      <th>Cloudiness</th>\n",
       "      <th>Wind Speed</th>\n",
       "      <th>Date</th>\n",
       "    </tr>\n",
       "  </thead>\n",
       "  <tbody>\n",
       "    <tr>\n",
       "      <td>0</td>\n",
       "      <td>5546220</td>\n",
       "      <td>Saint George</td>\n",
       "      <td>US</td>\n",
       "      <td>37.10</td>\n",
       "      <td>-113.58</td>\n",
       "      <td>82.0</td>\n",
       "      <td>16.0</td>\n",
       "      <td>1.0</td>\n",
       "      <td>6.93</td>\n",
       "      <td>1.588529e+09</td>\n",
       "    </tr>\n",
       "    <tr>\n",
       "      <td>1</td>\n",
       "      <td>3874787</td>\n",
       "      <td>Punta Arenas</td>\n",
       "      <td>CL</td>\n",
       "      <td>-53.15</td>\n",
       "      <td>-70.92</td>\n",
       "      <td>48.2</td>\n",
       "      <td>81.0</td>\n",
       "      <td>51.0</td>\n",
       "      <td>13.87</td>\n",
       "      <td>1.588529e+09</td>\n",
       "    </tr>\n",
       "    <tr>\n",
       "      <td>2</td>\n",
       "      <td>2163355</td>\n",
       "      <td>Hobart</td>\n",
       "      <td>AU</td>\n",
       "      <td>-42.88</td>\n",
       "      <td>147.33</td>\n",
       "      <td>52.0</td>\n",
       "      <td>76.0</td>\n",
       "      <td>40.0</td>\n",
       "      <td>9.17</td>\n",
       "      <td>1.588529e+09</td>\n",
       "    </tr>\n",
       "    <tr>\n",
       "      <td>3</td>\n",
       "      <td>1633419</td>\n",
       "      <td>Padang</td>\n",
       "      <td>ID</td>\n",
       "      <td>-0.95</td>\n",
       "      <td>100.35</td>\n",
       "      <td>79.7</td>\n",
       "      <td>76.0</td>\n",
       "      <td>99.0</td>\n",
       "      <td>4.52</td>\n",
       "      <td>1.588530e+09</td>\n",
       "    </tr>\n",
       "    <tr>\n",
       "      <td>4</td>\n",
       "      <td>2208248</td>\n",
       "      <td>Kaitangata</td>\n",
       "      <td>NZ</td>\n",
       "      <td>-46.28</td>\n",
       "      <td>169.85</td>\n",
       "      <td>57.0</td>\n",
       "      <td>54.0</td>\n",
       "      <td>100.0</td>\n",
       "      <td>6.44</td>\n",
       "      <td>1.588530e+09</td>\n",
       "    </tr>\n",
       "  </tbody>\n",
       "</table>\n",
       "</div>"
      ],
      "text/plain": [
       "   City ID          City Country    Lat     Lng  Max Temp  Humidity  \\\n",
       "0  5546220  Saint George      US  37.10 -113.58      82.0      16.0   \n",
       "1  3874787  Punta Arenas      CL -53.15  -70.92      48.2      81.0   \n",
       "2  2163355        Hobart      AU -42.88  147.33      52.0      76.0   \n",
       "3  1633419        Padang      ID  -0.95  100.35      79.7      76.0   \n",
       "4  2208248    Kaitangata      NZ -46.28  169.85      57.0      54.0   \n",
       "\n",
       "   Cloudiness  Wind Speed          Date  \n",
       "0         1.0        6.93  1.588529e+09  \n",
       "1        51.0       13.87  1.588529e+09  \n",
       "2        40.0        9.17  1.588529e+09  \n",
       "3        99.0        4.52  1.588530e+09  \n",
       "4       100.0        6.44  1.588530e+09  "
      ]
     },
     "execution_count": 79,
     "metadata": {},
     "output_type": "execute_result"
    }
   ],
   "source": [
    "humid_df.head()"
   ]
  },
  {
   "cell_type": "code",
   "execution_count": 80,
   "metadata": {},
   "outputs": [],
   "source": [
    "# Export the City_Data into a csv\n",
    "\n",
    "clean_city_df.to_csv(\"IdealCities.csv\", index=False)"
   ]
  },
  {
   "cell_type": "markdown",
   "metadata": {},
   "source": [
    "## Plotting the Data\n",
    "* Use proper labeling of the plots using plot titles (including date of analysis) and axes labels.\n",
    "* Save the plotted figures as .pngs."
   ]
  },
  {
   "cell_type": "markdown",
   "metadata": {},
   "source": [
    "## Latitude vs. Temperature Plot"
   ]
  },
  {
   "cell_type": "code",
   "execution_count": 81,
   "metadata": {
    "scrolled": true
   },
   "outputs": [
    {
     "data": {
      "image/png": "[encoded data removed]",
      "text/plain": [
       "<Figure size 432x288 with 1 Axes>"
      ]
     },
     "metadata": {
      "needs_background": "light"
     },
     "output_type": "display_data"
    }
   ],
   "source": [
    "plt.scatter(humid_df.Lat, humid_df['Max Temp'], facecolor ='green', edgecolor='black')\n",
    "plt.xlabel(\"Latitude\")\n",
    "plt.ylabel(\"Temperature (F)\")\n",
    "plt.title(\"Latitude vs Temperature\", fontsize=16, fontweight=\"bold\")\n",
    "plt.show()"
   ]
  },
  {
   "cell_type": "markdown",
   "metadata": {},
   "source": [
    "## Latitude vs. Humidity Plot"
   ]
  },
  {
   "cell_type": "code",
   "execution_count": 82,
   "metadata": {},
   "outputs": [
    {
     "data": {
      "image/png": "[encoded data removed]",
      "text/plain": [
       "<Figure size 432x288 with 1 Axes>"
      ]
     },
     "metadata": {
      "needs_background": "light"
     },
     "output_type": "display_data"
    }
   ],
   "source": [
    "plt.scatter(humid_df.Lat, humid_df['Humidity'], facecolor ='green', edgecolor='black')\n",
    "plt.xlabel(\"Latitude\")\n",
    "plt.ylabel(\"Relative Humidity (%)\")\n",
    "plt.title(\"Latitude vs Relative Humidity\", fontsize=16, fontweight=\"bold\")\n",
    "plt.show()"
   ]
  },
  {
   "cell_type": "markdown",
   "metadata": {},
   "source": [
    "## Latitude vs. Cloudiness Plot"
   ]
  },
  {
   "cell_type": "code",
   "execution_count": 83,
   "metadata": {},
   "outputs": [
    {
     "data": {
      "image/png": "[encoded data removed]",
      "text/plain": [
       "<Figure size 432x288 with 1 Axes>"
      ]
     },
     "metadata": {
      "needs_background": "light"
     },
     "output_type": "display_data"
    }
   ],
   "source": [
    "plt.scatter(humid_df.Lat, humid_df['Cloudiness'], facecolor ='green', edgecolor='black')\n",
    "plt.xlabel(\"Latitude\")\n",
    "plt.ylabel(\"Cloud Cover(% of sky)\")\n",
    "plt.title(\"Latitude vs Cloud Cover\", fontsize=16, fontweight=\"bold\")\n",
    "plt.show()"
   ]
  },
  {
   "cell_type": "markdown",
   "metadata": {},
   "source": [
    "## Latitude vs. Wind Speed Plot"
   ]
  },
  {
   "cell_type": "code",
   "execution_count": 84,
   "metadata": {},
   "outputs": [
    {
     "data": {
      "image/png": "[encoded data removed]",
      "text/plain": [
       "<Figure size 432x288 with 1 Axes>"
      ]
     },
     "metadata": {
      "needs_background": "light"
     },
     "output_type": "display_data"
    }
   ],
   "source": [
    "plt.scatter(humid_df.Lat, humid_df['Wind Speed'], facecolor ='green', edgecolor='black')\n",
    "plt.xlabel(\"Latitude\")\n",
    "plt.ylabel(\"Wind Speed (MpH)\")\n",
    "plt.title(\"Latitude vs Wind Speed\", fontsize=16, fontweight=\"bold\")\n",
    "plt.show()"
   ]
  },
  {
   "cell_type": "markdown",
   "metadata": {},
   "source": [
    "## Linear Regression"
   ]
  },
  {
   "cell_type": "code",
   "execution_count": 86,
   "metadata": {},
   "outputs": [
    {
     "data": {
      "text/html": [
       "<div>\n",
       "<style scoped>\n",
       "    .dataframe tbody tr th:only-of-type {\n",
       "        vertical-align: middle;\n",
       "    }\n",
       "\n",
       "    .dataframe tbody tr th {\n",
       "        vertical-align: top;\n",
       "    }\n",
       "\n",
       "    .dataframe thead th {\n",
       "        text-align: right;\n",
       "    }\n",
       "</style>\n",
       "<table border=\"1\" class=\"dataframe\">\n",
       "  <thead>\n",
       "    <tr style=\"text-align: right;\">\n",
       "      <th></th>\n",
       "      <th>City ID</th>\n",
       "      <th>Lat</th>\n",
       "      <th>Lng</th>\n",
       "      <th>Max Temp</th>\n",
       "      <th>Humidity</th>\n",
       "      <th>Cloudiness</th>\n",
       "      <th>Wind Speed</th>\n",
       "      <th>Date</th>\n",
       "    </tr>\n",
       "  </thead>\n",
       "  <tbody>\n",
       "    <tr>\n",
       "      <td>count</td>\n",
       "      <td>3.870000e+02</td>\n",
       "      <td>387.000000</td>\n",
       "      <td>387.000000</td>\n",
       "      <td>387.000000</td>\n",
       "      <td>387.000000</td>\n",
       "      <td>387.000000</td>\n",
       "      <td>387.000000</td>\n",
       "      <td>3.870000e+02</td>\n",
       "    </tr>\n",
       "    <tr>\n",
       "      <td>mean</td>\n",
       "      <td>2.774021e+06</td>\n",
       "      <td>38.474729</td>\n",
       "      <td>9.432119</td>\n",
       "      <td>61.797881</td>\n",
       "      <td>63.142119</td>\n",
       "      <td>52.772610</td>\n",
       "      <td>8.103721</td>\n",
       "      <td>1.588530e+09</td>\n",
       "    </tr>\n",
       "    <tr>\n",
       "      <td>std</td>\n",
       "      <td>1.858255e+06</td>\n",
       "      <td>20.157347</td>\n",
       "      <td>87.380092</td>\n",
       "      <td>23.124358</td>\n",
       "      <td>24.900901</td>\n",
       "      <td>37.462105</td>\n",
       "      <td>5.135530</td>\n",
       "      <td>2.176744e+02</td>\n",
       "    </tr>\n",
       "    <tr>\n",
       "      <td>min</td>\n",
       "      <td>5.337200e+04</td>\n",
       "      <td>0.540000</td>\n",
       "      <td>-179.170000</td>\n",
       "      <td>0.070000</td>\n",
       "      <td>1.000000</td>\n",
       "      <td>0.000000</td>\n",
       "      <td>0.630000</td>\n",
       "      <td>1.588529e+09</td>\n",
       "    </tr>\n",
       "    <tr>\n",
       "      <td>25%</td>\n",
       "      <td>1.500947e+06</td>\n",
       "      <td>22.255000</td>\n",
       "      <td>-72.565000</td>\n",
       "      <td>44.305000</td>\n",
       "      <td>44.500000</td>\n",
       "      <td>13.000000</td>\n",
       "      <td>4.240000</td>\n",
       "      <td>1.588530e+09</td>\n",
       "    </tr>\n",
       "    <tr>\n",
       "      <td>50%</td>\n",
       "      <td>2.274895e+06</td>\n",
       "      <td>39.890000</td>\n",
       "      <td>15.640000</td>\n",
       "      <td>66.200000</td>\n",
       "      <td>67.000000</td>\n",
       "      <td>59.000000</td>\n",
       "      <td>7.310000</td>\n",
       "      <td>1.588530e+09</td>\n",
       "    </tr>\n",
       "    <tr>\n",
       "      <td>75%</td>\n",
       "      <td>3.986898e+06</td>\n",
       "      <td>54.615000</td>\n",
       "      <td>80.695000</td>\n",
       "      <td>80.735000</td>\n",
       "      <td>84.000000</td>\n",
       "      <td>90.000000</td>\n",
       "      <td>11.210000</td>\n",
       "      <td>1.588530e+09</td>\n",
       "    </tr>\n",
       "    <tr>\n",
       "      <td>max</td>\n",
       "      <td>1.072286e+07</td>\n",
       "      <td>78.220000</td>\n",
       "      <td>179.320000</td>\n",
       "      <td>110.070000</td>\n",
       "      <td>100.000000</td>\n",
       "      <td>100.000000</td>\n",
       "      <td>27.690000</td>\n",
       "      <td>1.588530e+09</td>\n",
       "    </tr>\n",
       "  </tbody>\n",
       "</table>\n",
       "</div>"
      ],
      "text/plain": [
       "            City ID         Lat         Lng    Max Temp    Humidity  \\\n",
       "count  3.870000e+02  387.000000  387.000000  387.000000  387.000000   \n",
       "mean   2.774021e+06   38.474729    9.432119   61.797881   63.142119   \n",
       "std    1.858255e+06   20.157347   87.380092   23.124358   24.900901   \n",
       "min    5.337200e+04    0.540000 -179.170000    0.070000    1.000000   \n",
       "25%    1.500947e+06   22.255000  -72.565000   44.305000   44.500000   \n",
       "50%    2.274895e+06   39.890000   15.640000   66.200000   67.000000   \n",
       "75%    3.986898e+06   54.615000   80.695000   80.735000   84.000000   \n",
       "max    1.072286e+07   78.220000  179.320000  110.070000  100.000000   \n",
       "\n",
       "       Cloudiness  Wind Speed          Date  \n",
       "count  387.000000  387.000000  3.870000e+02  \n",
       "mean    52.772610    8.103721  1.588530e+09  \n",
       "std     37.462105    5.135530  2.176744e+02  \n",
       "min      0.000000    0.630000  1.588529e+09  \n",
       "25%     13.000000    4.240000  1.588530e+09  \n",
       "50%     59.000000    7.310000  1.588530e+09  \n",
       "75%     90.000000   11.210000  1.588530e+09  \n",
       "max    100.000000   27.690000  1.588530e+09  "
      ]
     },
     "execution_count": 86,
     "metadata": {},
     "output_type": "execute_result"
    }
   ],
   "source": [
    "# Create Northern and Southern Hemisphere DataFrames\n",
    "northmask= humid_df.Lat >=0\n",
    "north_df = humid_df.loc[northmask].reset_index(drop=True)\n",
    "north_df.describe()"
   ]
  },
  {
   "cell_type": "code",
   "execution_count": 87,
   "metadata": {},
   "outputs": [
    {
     "data": {
      "text/html": [
       "<div>\n",
       "<style scoped>\n",
       "    .dataframe tbody tr th:only-of-type {\n",
       "        vertical-align: middle;\n",
       "    }\n",
       "\n",
       "    .dataframe tbody tr th {\n",
       "        vertical-align: top;\n",
       "    }\n",
       "\n",
       "    .dataframe thead th {\n",
       "        text-align: right;\n",
       "    }\n",
       "</style>\n",
       "<table border=\"1\" class=\"dataframe\">\n",
       "  <thead>\n",
       "    <tr style=\"text-align: right;\">\n",
       "      <th></th>\n",
       "      <th>City ID</th>\n",
       "      <th>Lat</th>\n",
       "      <th>Lng</th>\n",
       "      <th>Max Temp</th>\n",
       "      <th>Humidity</th>\n",
       "      <th>Cloudiness</th>\n",
       "      <th>Wind Speed</th>\n",
       "      <th>Date</th>\n",
       "    </tr>\n",
       "  </thead>\n",
       "  <tbody>\n",
       "    <tr>\n",
       "      <td>count</td>\n",
       "      <td>1.710000e+02</td>\n",
       "      <td>171.000000</td>\n",
       "      <td>171.000000</td>\n",
       "      <td>171.000000</td>\n",
       "      <td>171.000000</td>\n",
       "      <td>171.000000</td>\n",
       "      <td>171.000000</td>\n",
       "      <td>1.710000e+02</td>\n",
       "    </tr>\n",
       "    <tr>\n",
       "      <td>mean</td>\n",
       "      <td>2.582658e+06</td>\n",
       "      <td>-20.710000</td>\n",
       "      <td>31.738830</td>\n",
       "      <td>69.570702</td>\n",
       "      <td>69.614035</td>\n",
       "      <td>52.584795</td>\n",
       "      <td>7.191988</td>\n",
       "      <td>1.588530e+09</td>\n",
       "    </tr>\n",
       "    <tr>\n",
       "      <td>std</td>\n",
       "      <td>1.206019e+06</td>\n",
       "      <td>13.339591</td>\n",
       "      <td>96.787514</td>\n",
       "      <td>12.078855</td>\n",
       "      <td>19.890661</td>\n",
       "      <td>34.285610</td>\n",
       "      <td>4.729047</td>\n",
       "      <td>2.077461e+02</td>\n",
       "    </tr>\n",
       "    <tr>\n",
       "      <td>min</td>\n",
       "      <td>5.567100e+04</td>\n",
       "      <td>-54.800000</td>\n",
       "      <td>-175.200000</td>\n",
       "      <td>42.010000</td>\n",
       "      <td>15.000000</td>\n",
       "      <td>0.000000</td>\n",
       "      <td>0.160000</td>\n",
       "      <td>1.588529e+09</td>\n",
       "    </tr>\n",
       "    <tr>\n",
       "      <td>25%</td>\n",
       "      <td>1.647339e+06</td>\n",
       "      <td>-33.305000</td>\n",
       "      <td>-52.860000</td>\n",
       "      <td>60.800000</td>\n",
       "      <td>57.500000</td>\n",
       "      <td>20.500000</td>\n",
       "      <td>3.530000</td>\n",
       "      <td>1.588530e+09</td>\n",
       "    </tr>\n",
       "    <tr>\n",
       "      <td>50%</td>\n",
       "      <td>2.180995e+06</td>\n",
       "      <td>-19.810000</td>\n",
       "      <td>26.890000</td>\n",
       "      <td>71.510000</td>\n",
       "      <td>75.000000</td>\n",
       "      <td>51.000000</td>\n",
       "      <td>5.820000</td>\n",
       "      <td>1.588530e+09</td>\n",
       "    </tr>\n",
       "    <tr>\n",
       "      <td>75%</td>\n",
       "      <td>3.469472e+06</td>\n",
       "      <td>-9.090000</td>\n",
       "      <td>130.400000</td>\n",
       "      <td>78.820000</td>\n",
       "      <td>83.000000</td>\n",
       "      <td>85.000000</td>\n",
       "      <td>10.290000</td>\n",
       "      <td>1.588530e+09</td>\n",
       "    </tr>\n",
       "    <tr>\n",
       "      <td>max</td>\n",
       "      <td>6.620339e+06</td>\n",
       "      <td>-0.360000</td>\n",
       "      <td>175.870000</td>\n",
       "      <td>93.200000</td>\n",
       "      <td>100.000000</td>\n",
       "      <td>100.000000</td>\n",
       "      <td>28.160000</td>\n",
       "      <td>1.588530e+09</td>\n",
       "    </tr>\n",
       "  </tbody>\n",
       "</table>\n",
       "</div>"
      ],
      "text/plain": [
       "            City ID         Lat         Lng    Max Temp    Humidity  \\\n",
       "count  1.710000e+02  171.000000  171.000000  171.000000  171.000000   \n",
       "mean   2.582658e+06  -20.710000   31.738830   69.570702   69.614035   \n",
       "std    1.206019e+06   13.339591   96.787514   12.078855   19.890661   \n",
       "min    5.567100e+04  -54.800000 -175.200000   42.010000   15.000000   \n",
       "25%    1.647339e+06  -33.305000  -52.860000   60.800000   57.500000   \n",
       "50%    2.180995e+06  -19.810000   26.890000   71.510000   75.000000   \n",
       "75%    3.469472e+06   -9.090000  130.400000   78.820000   83.000000   \n",
       "max    6.620339e+06   -0.360000  175.870000   93.200000  100.000000   \n",
       "\n",
       "       Cloudiness  Wind Speed          Date  \n",
       "count  171.000000  171.000000  1.710000e+02  \n",
       "mean    52.584795    7.191988  1.588530e+09  \n",
       "std     34.285610    4.729047  2.077461e+02  \n",
       "min      0.000000    0.160000  1.588529e+09  \n",
       "25%     20.500000    3.530000  1.588530e+09  \n",
       "50%     51.000000    5.820000  1.588530e+09  \n",
       "75%     85.000000   10.290000  1.588530e+09  \n",
       "max    100.000000   28.160000  1.588530e+09  "
      ]
     },
     "execution_count": 87,
     "metadata": {},
     "output_type": "execute_result"
    }
   ],
   "source": [
    "#Create Southern DF\n",
    "southmask= humid_df.Lat <0\n",
    "south_df = humid_df.loc[southmask].reset_index(drop=True)\n",
    "south_df.describe()"
   ]
  },
  {
   "cell_type": "code",
   "execution_count": 88,
   "metadata": {},
   "outputs": [
    {
     "data": {
      "text/plain": [
       "<matplotlib.axes._subplots.AxesSubplot at 0x18f3af56e48>"
      ]
     },
     "execution_count": 88,
     "metadata": {},
     "output_type": "execute_result"
    },
    {
     "data": {
      "image/png": "[encoded data removed]",
      "text/plain": [
       "<Figure size 432x288 with 2 Axes>"
      ]
     },
     "metadata": {
      "needs_background": "light"
     },
     "output_type": "display_data"
    }
   ],
   "source": [
    "#northern correlations heatmap\n",
    "sn.heatmap(north_df.corr())"
   ]
  },
  {
   "cell_type": "code",
   "execution_count": 89,
   "metadata": {},
   "outputs": [
    {
     "data": {
      "text/plain": [
       "<matplotlib.axes._subplots.AxesSubplot at 0x18f3962e448>"
      ]
     },
     "execution_count": 89,
     "metadata": {},
     "output_type": "execute_result"
    },
    {
     "data": {
      "image/png": "[encoded data removed]",
      "text/plain": [
       "<Figure size 432x288 with 2 Axes>"
      ]
     },
     "metadata": {
      "needs_background": "light"
     },
     "output_type": "display_data"
    }
   ],
   "source": [
    "#southern correlations heatmap\n",
    "sn.heatmap(south_df.corr())"
   ]
  },
  {
   "cell_type": "code",
   "execution_count": 90,
   "metadata": {},
   "outputs": [],
   "source": [
    "#Regression function\n",
    "def northregress(x, y):\n",
    "    x_values = north_df[f'{x}']\n",
    "    y_values = north_df[f'{y}']\n",
    "    (slope, intercept, rvalue, pvalue, stderr) = linregress(x_values, y_values)\n",
    "    regress_values = x_values * slope + intercept\n",
    "    line_eq = \"y = \" + str(round(slope,2)) + \"x + \" + str(round(intercept,2))\n",
    "    plt.scatter(x_values,y_values, facecolor='green', edgecolor='black')\n",
    "    plt.plot(x_values,regress_values,\"r-\")\n",
    "    plt.annotate(line_eq,(6,10),fontsize=15,color=\"red\")\n",
    "    plt.xlabel(f'{x}')\n",
    "    plt.ylabel(f'{y}')\n",
    "    plt.title(f'{x} vs {y} in the North', fontweight='bold')\n",
    "    print(f\"The r-squared is: {rvalue**2}\")\n",
    "    print(f\"The p-value is: {pvalue}\")\n",
    "    plt.show()\n",
    "    \n",
    "def southregress(x, y):\n",
    "    x_values = south_df[f'{x}']\n",
    "    y_values = south_df[f'{y}']\n",
    "    (slope, intercept, rvalue, pvalue, stderr) = linregress(x_values, y_values)\n",
    "    regress_values = x_values * slope + intercept\n",
    "    line_eq = \"y = \" + str(round(slope,2)) + \"x + \" + str(round(intercept,2))\n",
    "    plt.scatter(x_values,y_values, facecolor='green', edgecolor='black')\n",
    "    plt.plot(x_values,regress_values,\"r-\")\n",
    "    plt.annotate(line_eq,(6,10),fontsize=15,color=\"red\")\n",
    "    plt.xlabel(f'{x}')\n",
    "    plt.ylabel(f'{y}')\n",
    "    plt.title(f'{x} vs {y} in the South', fontweight='bold')\n",
    "    print(f\"The r-squared is: {rvalue**2}\")\n",
    "    print(f\"The p-value is: {pvalue}\")\n",
    "    plt.show()"
   ]
  },
  {
   "cell_type": "markdown",
   "metadata": {},
   "source": [
    "####  Northern Hemisphere - Max Temp vs. Latitude Linear Regression"
   ]
  },
  {
   "cell_type": "code",
   "execution_count": 91,
   "metadata": {},
   "outputs": [
    {
     "name": "stdout",
     "output_type": "stream",
     "text": [
      "The r-squared is: 0.7482274572775197\n",
      "The p-value is: 2.320836347509138e-117\n"
     ]
    },
    {
     "data": {
      "image/png": "[encoded data removed]",
      "text/plain": [
       "<Figure size 432x288 with 1 Axes>"
      ]
     },
     "metadata": {
      "needs_background": "light"
     },
     "output_type": "display_data"
    }
   ],
   "source": [
    "northregress('Lat', 'Max Temp')"
   ]
  },
  {
   "cell_type": "markdown",
   "metadata": {},
   "source": [
    "####  Southern Hemisphere - Max Temp vs. Latitude Linear Regression"
   ]
  },
  {
   "cell_type": "code",
   "execution_count": 92,
   "metadata": {},
   "outputs": [
    {
     "name": "stdout",
     "output_type": "stream",
     "text": [
      "The r-squared is: 0.5884255872403759\n",
      "The p-value is: 2.0971846607358704e-34\n"
     ]
    },
    {
     "data": {
      "image/png": "[encoded data removed]",
      "text/plain": [
       "<Figure size 432x288 with 1 Axes>"
      ]
     },
     "metadata": {
      "needs_background": "light"
     },
     "output_type": "display_data"
    }
   ],
   "source": [
    "southregress('Lat', 'Max Temp')"
   ]
  },
  {
   "cell_type": "markdown",
   "metadata": {},
   "source": [
    "####  Northern Hemisphere - Humidity (%) vs. Latitude Linear Regression"
   ]
  },
  {
   "cell_type": "code",
   "execution_count": 93,
   "metadata": {},
   "outputs": [
    {
     "name": "stdout",
     "output_type": "stream",
     "text": [
      "The r-squared is: 0.03781431644040089\n",
      "The p-value is: 0.00011816702652157314\n"
     ]
    },
    {
     "data": {
      "image/png": "[encoded data removed]",
      "text/plain": [
       "<Figure size 432x288 with 1 Axes>"
      ]
     },
     "metadata": {
      "needs_background": "light"
     },
     "output_type": "display_data"
    }
   ],
   "source": [
    "northregress('Lat', 'Humidity')"
   ]
  },
  {
   "cell_type": "markdown",
   "metadata": {},
   "source": [
    "####  Southern Hemisphere - Humidity (%) vs. Latitude Linear Regression"
   ]
  },
  {
   "cell_type": "code",
   "execution_count": 94,
   "metadata": {},
   "outputs": [
    {
     "name": "stdout",
     "output_type": "stream",
     "text": [
      "The r-squared is: 0.0013064127658601566\n",
      "The p-value is: 0.6388300752119989\n"
     ]
    },
    {
     "data": {
      "image/png": "[encoded data removed]",
      "text/plain": [
       "<Figure size 432x288 with 1 Axes>"
      ]
     },
     "metadata": {
      "needs_background": "light"
     },
     "output_type": "display_data"
    }
   ],
   "source": [
    "southregress('Lat', 'Humidity')"
   ]
  },
  {
   "cell_type": "markdown",
   "metadata": {},
   "source": [
    "####  Northern Hemisphere - Cloudiness (%) vs. Latitude Linear Regression"
   ]
  },
  {
   "cell_type": "code",
   "execution_count": 95,
   "metadata": {},
   "outputs": [
    {
     "name": "stdout",
     "output_type": "stream",
     "text": [
      "The r-squared is: 0.0014058751950932096\n",
      "The p-value is: 0.4620434671909034\n"
     ]
    },
    {
     "data": {
      "image/png": "[encoded data removed]",
      "text/plain": [
       "<Figure size 432x288 with 1 Axes>"
      ]
     },
     "metadata": {
      "needs_background": "light"
     },
     "output_type": "display_data"
    }
   ],
   "source": [
    "northregress('Lat', 'Cloudiness')"
   ]
  },
  {
   "cell_type": "markdown",
   "metadata": {},
   "source": [
    "####  Southern Hemisphere - Cloudiness (%) vs. Latitude Linear Regression"
   ]
  },
  {
   "cell_type": "code",
   "execution_count": 96,
   "metadata": {},
   "outputs": [
    {
     "name": "stdout",
     "output_type": "stream",
     "text": [
      "The r-squared is: 0.03414321435135209\n",
      "The p-value is: 0.01554418282953645\n"
     ]
    },
    {
     "data": {
      "image/png": "[encoded data removed]",
      "text/plain": [
       "<Figure size 432x288 with 1 Axes>"
      ]
     },
     "metadata": {
      "needs_background": "light"
     },
     "output_type": "display_data"
    }
   ],
   "source": [
    "southregress('Lat', 'Cloudiness')"
   ]
  },
  {
   "cell_type": "markdown",
   "metadata": {},
   "source": [
    "####  Northern Hemisphere - Wind Speed (mph) vs. Latitude Linear Regression"
   ]
  },
  {
   "cell_type": "code",
   "execution_count": 97,
   "metadata": {},
   "outputs": [
    {
     "name": "stdout",
     "output_type": "stream",
     "text": [
      "The r-squared is: 1.7830521498388158e-05\n",
      "The p-value is: 0.934010269274303\n"
     ]
    },
    {
     "data": {
      "image/png": "[encoded data removed]",
      "text/plain": [
       "<Figure size 432x288 with 1 Axes>"
      ]
     },
     "metadata": {
      "needs_background": "light"
     },
     "output_type": "display_data"
    }
   ],
   "source": [
    "northregress('Lat', 'Wind Speed')"
   ]
  },
  {
   "cell_type": "markdown",
   "metadata": {},
   "source": [
    "####  Southern Hemisphere - Wind Speed (mph) vs. Latitude Linear Regression"
   ]
  },
  {
   "cell_type": "code",
   "execution_count": 98,
   "metadata": {},
   "outputs": [
    {
     "name": "stdout",
     "output_type": "stream",
     "text": [
      "The r-squared is: 0.004478095742676303\n",
      "The p-value is: 0.38450216010197635\n"
     ]
    },
    {
     "data": {
      "image/png": "[encoded data removed]",
      "text/plain": [
       "<Figure size 432x288 with 1 Axes>"
      ]
     },
     "metadata": {
      "needs_background": "light"
     },
     "output_type": "display_data"
    }
   ],
   "source": [
    "southregress('Lat', 'Wind Speed')"
   ]
  },
  {
   "cell_type": "code",
   "execution_count": null,
   "metadata": {},
   "outputs": [],
   "source": []
  }
 ],
 "metadata": {
  "anaconda-cloud": {},
  "kernel_info": {
   "name": "python3"
  },
  "kernelspec": {
   "display_name": "Python 3",
   "language": "python",
   "name": "python3"
  },
  "language_info": {
   "codemirror_mode": {
    "name": "ipython",
    "version": 3
   },
   "file_extension": ".py",
   "mimetype": "text/x-python",
   "name": "python",
   "nbconvert_exporter": "python",
   "pygments_lexer": "ipython3",
   "version": "3.7.4"
  },
  "latex_envs": {
   "LaTeX_envs_menu_present": true,
   "autoclose": false,
   "autocomplete": true,
   "bibliofile": "biblio.bib",
   "cite_by": "apalike",
   "current_citInitial": 1,
   "eqLabelWithNumbers": true,
   "eqNumInitial": 1,
   "hotkeys": {
    "equation": "Ctrl-E",
    "itemize": "Ctrl-I"
   },
   "labels_anchors": false,
   "latex_user_defs": false,
   "report_style_numbering": false,
   "user_envs_cfg": false
  },
  "nteract": {
   "version": "0.12.3"
  }
 },
 "nbformat": 4,
 "nbformat_minor": 2
}
